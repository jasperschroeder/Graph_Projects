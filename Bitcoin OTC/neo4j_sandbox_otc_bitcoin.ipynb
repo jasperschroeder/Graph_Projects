{
 "cells": [
  {
   "cell_type": "markdown",
   "metadata": {},
   "source": [
    "# Analyzing \"Bitcoin OTC trust weighted signed network\"\n",
    "\n",
    "The original dataset was retrieved via the SNAP webpage http://snap.stanford.edu/data/soc-sign-bitcoin-otc.html and can be downloaded there for full reproducability. \n",
    "\n",
    "The network is basically a network in which users (nodes) can indicate how much they trust other users on the Bitcoin OTC  platform. They do so by assigning ratings (-10 to +10, indicating distrusting entirely and trusting entirely respectively). \n",
    "\n",
    "References: \n",
    "\n",
    "S. Kumar, F. Spezzano, V.S. Subrahmanian, C. Faloutsos. Edge Weight Prediction in Weighted Signed Networks. IEEE International Conference on Data Mining (ICDM), 2016. [http://css.stanford.edu/~srijan/pubs/wsn-icdm16.pdf]\n",
    "\n",
    "S. Kumar, B. Hooi, D. Makhija, M. Kumar, V.S. Subrahmanian, C. Faloutsos. REV2: Fraudulent User Prediction in Rating Platforms. 11th ACM International Conference on Web Searchand Data Mining (WSDM), 2018. [http://css.stanford.edu/~srijan/pubs/rev2-wsdm18.pdf] "
   ]
  },
  {
   "cell_type": "markdown",
   "metadata": {},
   "source": [
    "# 0: Loading necessary modules"
   ]
  },
  {
   "cell_type": "code",
   "execution_count": 2,
   "metadata": {},
   "outputs": [],
   "source": [
    "from neo4j import GraphDatabase\n",
    "import pandas as pd\n",
    "import matplotlib.pyplot as plt\n",
    "%matplotlib inline\n",
    "import numpy as np\n",
    "from datetime import datetime\n",
    "from itertools import repeat"
   ]
  },
  {
   "cell_type": "markdown",
   "metadata": {},
   "source": [
    "# Loading the dataset and creating a neo4j aura session"
   ]
  },
  {
   "cell_type": "code",
   "execution_count": 4,
   "metadata": {},
   "outputs": [
    {
     "data": {
      "text/html": [
       "<div>\n",
       "<style scoped>\n",
       "    .dataframe tbody tr th:only-of-type {\n",
       "        vertical-align: middle;\n",
       "    }\n",
       "\n",
       "    .dataframe tbody tr th {\n",
       "        vertical-align: top;\n",
       "    }\n",
       "\n",
       "    .dataframe thead th {\n",
       "        text-align: right;\n",
       "    }\n",
       "</style>\n",
       "<table border=\"1\" class=\"dataframe\">\n",
       "  <thead>\n",
       "    <tr style=\"text-align: right;\">\n",
       "      <th></th>\n",
       "      <th>SOURCE</th>\n",
       "      <th>TARGET</th>\n",
       "      <th>RATING</th>\n",
       "      <th>TIME</th>\n",
       "    </tr>\n",
       "  </thead>\n",
       "  <tbody>\n",
       "    <tr>\n",
       "      <th>0</th>\n",
       "      <td>6</td>\n",
       "      <td>2</td>\n",
       "      <td>4</td>\n",
       "      <td>1.289242e+09</td>\n",
       "    </tr>\n",
       "    <tr>\n",
       "      <th>1</th>\n",
       "      <td>6</td>\n",
       "      <td>5</td>\n",
       "      <td>2</td>\n",
       "      <td>1.289242e+09</td>\n",
       "    </tr>\n",
       "    <tr>\n",
       "      <th>2</th>\n",
       "      <td>1</td>\n",
       "      <td>15</td>\n",
       "      <td>1</td>\n",
       "      <td>1.289243e+09</td>\n",
       "    </tr>\n",
       "    <tr>\n",
       "      <th>3</th>\n",
       "      <td>4</td>\n",
       "      <td>3</td>\n",
       "      <td>7</td>\n",
       "      <td>1.289245e+09</td>\n",
       "    </tr>\n",
       "    <tr>\n",
       "      <th>4</th>\n",
       "      <td>13</td>\n",
       "      <td>16</td>\n",
       "      <td>8</td>\n",
       "      <td>1.289254e+09</td>\n",
       "    </tr>\n",
       "    <tr>\n",
       "      <th>...</th>\n",
       "      <td>...</td>\n",
       "      <td>...</td>\n",
       "      <td>...</td>\n",
       "      <td>...</td>\n",
       "    </tr>\n",
       "    <tr>\n",
       "      <th>35587</th>\n",
       "      <td>4499</td>\n",
       "      <td>1810</td>\n",
       "      <td>1</td>\n",
       "      <td>1.453612e+09</td>\n",
       "    </tr>\n",
       "    <tr>\n",
       "      <th>35588</th>\n",
       "      <td>2731</td>\n",
       "      <td>3901</td>\n",
       "      <td>5</td>\n",
       "      <td>1.453679e+09</td>\n",
       "    </tr>\n",
       "    <tr>\n",
       "      <th>35589</th>\n",
       "      <td>2731</td>\n",
       "      <td>4897</td>\n",
       "      <td>5</td>\n",
       "      <td>1.453679e+09</td>\n",
       "    </tr>\n",
       "    <tr>\n",
       "      <th>35590</th>\n",
       "      <td>13</td>\n",
       "      <td>1128</td>\n",
       "      <td>1</td>\n",
       "      <td>1.453680e+09</td>\n",
       "    </tr>\n",
       "    <tr>\n",
       "      <th>35591</th>\n",
       "      <td>1128</td>\n",
       "      <td>13</td>\n",
       "      <td>2</td>\n",
       "      <td>1.453684e+09</td>\n",
       "    </tr>\n",
       "  </tbody>\n",
       "</table>\n",
       "<p>35592 rows × 4 columns</p>\n",
       "</div>"
      ],
      "text/plain": [
       "       SOURCE  TARGET  RATING          TIME\n",
       "0           6       2       4  1.289242e+09\n",
       "1           6       5       2  1.289242e+09\n",
       "2           1      15       1  1.289243e+09\n",
       "3           4       3       7  1.289245e+09\n",
       "4          13      16       8  1.289254e+09\n",
       "...       ...     ...     ...           ...\n",
       "35587    4499    1810       1  1.453612e+09\n",
       "35588    2731    3901       5  1.453679e+09\n",
       "35589    2731    4897       5  1.453679e+09\n",
       "35590      13    1128       1  1.453680e+09\n",
       "35591    1128      13       2  1.453684e+09\n",
       "\n",
       "[35592 rows x 4 columns]"
      ]
     },
     "execution_count": 4,
     "metadata": {},
     "output_type": "execute_result"
    }
   ],
   "source": [
    "# path to file is of course user-sepecific\n",
    "node_network = pd.read_csv('C:/Users/Jasper/Downloads/soc-sign-bitcoinotc.csv', header=None)\n",
    "node_network.columns = ['SOURCE', 'TARGET', 'RATING', 'TIME']\n",
    "node_network"
   ]
  },
  {
   "cell_type": "code",
   "execution_count": 5,
   "metadata": {},
   "outputs": [],
   "source": [
    "# Once this is done, we can transform the time \n",
    "\n",
    "def epoch_to_time_stamp(epoch):\n",
    "    val = datetime.fromtimestamp(epoch)\n",
    "    return val\n",
    "\n",
    "node_network['Date'] = node_network['TIME'].apply(epoch_to_time_stamp)"
   ]
  },
  {
   "cell_type": "code",
   "execution_count": 6,
   "metadata": {},
   "outputs": [
    {
     "data": {
      "text/html": [
       "<div>\n",
       "<style scoped>\n",
       "    .dataframe tbody tr th:only-of-type {\n",
       "        vertical-align: middle;\n",
       "    }\n",
       "\n",
       "    .dataframe tbody tr th {\n",
       "        vertical-align: top;\n",
       "    }\n",
       "\n",
       "    .dataframe thead th {\n",
       "        text-align: right;\n",
       "    }\n",
       "</style>\n",
       "<table border=\"1\" class=\"dataframe\">\n",
       "  <thead>\n",
       "    <tr style=\"text-align: right;\">\n",
       "      <th></th>\n",
       "      <th>SOURCE</th>\n",
       "      <th>TARGET</th>\n",
       "      <th>RATING</th>\n",
       "      <th>TIME</th>\n",
       "      <th>Date</th>\n",
       "    </tr>\n",
       "  </thead>\n",
       "  <tbody>\n",
       "    <tr>\n",
       "      <th>0</th>\n",
       "      <td>6</td>\n",
       "      <td>2</td>\n",
       "      <td>4</td>\n",
       "      <td>1.289242e+09</td>\n",
       "      <td>2010-11-08 19:45:11.728360</td>\n",
       "    </tr>\n",
       "    <tr>\n",
       "      <th>1</th>\n",
       "      <td>6</td>\n",
       "      <td>5</td>\n",
       "      <td>2</td>\n",
       "      <td>1.289242e+09</td>\n",
       "      <td>2010-11-08 19:45:41.533780</td>\n",
       "    </tr>\n",
       "    <tr>\n",
       "      <th>2</th>\n",
       "      <td>1</td>\n",
       "      <td>15</td>\n",
       "      <td>1</td>\n",
       "      <td>1.289243e+09</td>\n",
       "      <td>2010-11-08 20:05:40.390490</td>\n",
       "    </tr>\n",
       "    <tr>\n",
       "      <th>3</th>\n",
       "      <td>4</td>\n",
       "      <td>3</td>\n",
       "      <td>7</td>\n",
       "      <td>1.289245e+09</td>\n",
       "      <td>2010-11-08 20:41:17.369750</td>\n",
       "    </tr>\n",
       "    <tr>\n",
       "      <th>4</th>\n",
       "      <td>13</td>\n",
       "      <td>16</td>\n",
       "      <td>8</td>\n",
       "      <td>1.289254e+09</td>\n",
       "      <td>2010-11-08 23:10:54.447460</td>\n",
       "    </tr>\n",
       "    <tr>\n",
       "      <th>...</th>\n",
       "      <td>...</td>\n",
       "      <td>...</td>\n",
       "      <td>...</td>\n",
       "      <td>...</td>\n",
       "      <td>...</td>\n",
       "    </tr>\n",
       "    <tr>\n",
       "      <th>35587</th>\n",
       "      <td>4499</td>\n",
       "      <td>1810</td>\n",
       "      <td>1</td>\n",
       "      <td>1.453612e+09</td>\n",
       "      <td>2016-01-24 06:14:41.647290</td>\n",
       "    </tr>\n",
       "    <tr>\n",
       "      <th>35588</th>\n",
       "      <td>2731</td>\n",
       "      <td>3901</td>\n",
       "      <td>5</td>\n",
       "      <td>1.453679e+09</td>\n",
       "      <td>2016-01-25 00:50:28.049490</td>\n",
       "    </tr>\n",
       "    <tr>\n",
       "      <th>35589</th>\n",
       "      <td>2731</td>\n",
       "      <td>4897</td>\n",
       "      <td>5</td>\n",
       "      <td>1.453679e+09</td>\n",
       "      <td>2016-01-25 00:50:34.034020</td>\n",
       "    </tr>\n",
       "    <tr>\n",
       "      <th>35590</th>\n",
       "      <td>13</td>\n",
       "      <td>1128</td>\n",
       "      <td>1</td>\n",
       "      <td>1.453680e+09</td>\n",
       "      <td>2016-01-25 00:53:52.985710</td>\n",
       "    </tr>\n",
       "    <tr>\n",
       "      <th>35591</th>\n",
       "      <td>1128</td>\n",
       "      <td>13</td>\n",
       "      <td>2</td>\n",
       "      <td>1.453684e+09</td>\n",
       "      <td>2016-01-25 02:12:03.757280</td>\n",
       "    </tr>\n",
       "  </tbody>\n",
       "</table>\n",
       "<p>35592 rows × 5 columns</p>\n",
       "</div>"
      ],
      "text/plain": [
       "       SOURCE  TARGET  RATING          TIME                       Date\n",
       "0           6       2       4  1.289242e+09 2010-11-08 19:45:11.728360\n",
       "1           6       5       2  1.289242e+09 2010-11-08 19:45:41.533780\n",
       "2           1      15       1  1.289243e+09 2010-11-08 20:05:40.390490\n",
       "3           4       3       7  1.289245e+09 2010-11-08 20:41:17.369750\n",
       "4          13      16       8  1.289254e+09 2010-11-08 23:10:54.447460\n",
       "...       ...     ...     ...           ...                        ...\n",
       "35587    4499    1810       1  1.453612e+09 2016-01-24 06:14:41.647290\n",
       "35588    2731    3901       5  1.453679e+09 2016-01-25 00:50:28.049490\n",
       "35589    2731    4897       5  1.453679e+09 2016-01-25 00:50:34.034020\n",
       "35590      13    1128       1  1.453680e+09 2016-01-25 00:53:52.985710\n",
       "35591    1128      13       2  1.453684e+09 2016-01-25 02:12:03.757280\n",
       "\n",
       "[35592 rows x 5 columns]"
      ]
     },
     "execution_count": 6,
     "metadata": {},
     "output_type": "execute_result"
    }
   ],
   "source": [
    "node_network"
   ]
  },
  {
   "cell_type": "markdown",
   "metadata": {},
   "source": [
    "# Creating the Neo4j Sandbox Session"
   ]
  },
  {
   "cell_type": "code",
   "execution_count": 7,
   "metadata": {},
   "outputs": [],
   "source": [
    "# As I am using a sandbox session, those login credentials are due to change and specific to session\n",
    "\n",
    "uri = \"bolt://ww.xxx.yyy.zzz:7687\"\n",
    "user = \"neo4j\"\n",
    "password = \"random-password-generated\"\n",
    "\n",
    "driver = GraphDatabase.driver(uri, auth=(user, password))\n",
    "session = driver.session()"
   ]
  },
  {
   "cell_type": "code",
   "execution_count": 8,
   "metadata": {},
   "outputs": [
    {
     "data": {
      "text/plain": [
       "<neo4j.work.result.Result at 0x1fe7d936308>"
      ]
     },
     "execution_count": 8,
     "metadata": {},
     "output_type": "execute_result"
    }
   ],
   "source": [
    "# In case there is anything left, let us clear everything\n",
    "session.run(\"MATCH (n) DETACH DELETE n\")"
   ]
  },
  {
   "cell_type": "markdown",
   "metadata": {},
   "source": [
    "# 1. Exploratory Data Analysis, Basic Statistics"
   ]
  },
  {
   "cell_type": "markdown",
   "metadata": {},
   "source": [
    "##  1.1 Let's do a bit of exploratory data analysis and basic statistics"
   ]
  },
  {
   "cell_type": "code",
   "execution_count": 9,
   "metadata": {},
   "outputs": [
    {
     "name": "stdout",
     "output_type": "stream",
     "text": [
      "5881\n"
     ]
    }
   ],
   "source": [
    "# How many players are there in total? \n",
    "nodeset = set(node_network['SOURCE']).union(set(node_network['TARGET']))\n",
    "print(len(nodeset))"
   ]
  },
  {
   "cell_type": "code",
   "execution_count": 10,
   "metadata": {},
   "outputs": [
    {
     "name": "stdout",
     "output_type": "stream",
     "text": [
      "35592\n"
     ]
    }
   ],
   "source": [
    "# And how many relationships are there? \n",
    "print(node_network.shape[0])"
   ]
  },
  {
   "cell_type": "code",
   "execution_count": 11,
   "metadata": {},
   "outputs": [
    {
     "data": {
      "text/plain": [
       "36020"
      ]
     },
     "execution_count": 11,
     "metadata": {},
     "output_type": "execute_result"
    }
   ],
   "source": [
    "# What is the sum of all ratings? \n",
    "node_network['RATING'].sum()"
   ]
  },
  {
   "cell_type": "markdown",
   "metadata": {},
   "source": [
    "Already here, it is interesting to see that the sum of the ratings is almost equal to the number of relationships. Thus, we should expect a lot of ratings around 1 (meaning: very weakly positive trust)."
   ]
  },
  {
   "cell_type": "code",
   "execution_count": 12,
   "metadata": {},
   "outputs": [
    {
     "name": "stdout",
     "output_type": "stream",
     "text": [
      "1.0120251741964486\n"
     ]
    }
   ],
   "source": [
    "# Let's back this up numerically.\n",
    "print(node_network['RATING'].mean())"
   ]
  },
  {
   "cell_type": "markdown",
   "metadata": {},
   "source": [
    "## 1.2 Visual Exploration"
   ]
  },
  {
   "cell_type": "code",
   "execution_count": 13,
   "metadata": {
    "scrolled": false
   },
   "outputs": [
    {
     "data": {
      "text/plain": [
       "<matplotlib.axes._subplots.AxesSubplot at 0x1fe7d957f88>"
      ]
     },
     "execution_count": 13,
     "metadata": {},
     "output_type": "execute_result"
    },
    {
     "data": {
      "image/png": "[encoded data removed]",
      "text/plain": [
       "<Figure size 864x576 with 1 Axes>"
      ]
     },
     "metadata": {
      "needs_background": "light"
     },
     "output_type": "display_data"
    }
   ],
   "source": [
    "# Let us explore the ratings visually\n",
    "plt.figure(figsize=(12,8))\n",
    "node_network['RATING'].hist(bins=20)"
   ]
  },
  {
   "cell_type": "markdown",
   "metadata": {},
   "source": [
    "As expected, there is a large peak at 1. Also, we see a bit of \"weak trust\" in the range 2-5. Next to that, it is interesting to see how the distribution has small peaks around -10 and 10. \n",
    "\n",
    "Also, note how few ratings occur at the (-9,0) range. Apparently, if bad ratings occur, they occur at the 'total distrusts' space."
   ]
  },
  {
   "cell_type": "code",
   "execution_count": 14,
   "metadata": {},
   "outputs": [
    {
     "data": {
      "text/plain": [
       "<matplotlib.axes._subplots.AxesSubplot at 0x1fe7dad7908>"
      ]
     },
     "execution_count": 14,
     "metadata": {},
     "output_type": "execute_result"
    },
    {
     "data": {
      "image/png": "[encoded data removed]",
      "text/plain": [
       "<Figure size 864x576 with 1 Axes>"
      ]
     },
     "metadata": {
      "needs_background": "light"
     },
     "output_type": "display_data"
    }
   ],
   "source": [
    "plt.figure(figsize=(12,8))\n",
    "node_network['Date'].hist(bins=20)"
   ]
  },
  {
   "cell_type": "markdown",
   "metadata": {},
   "source": [
    "An analysis of the time, i.e., the time when ratings occurred is also interesting. An increase in the number of ratings is seen in the first half of 2011. After that, it dropped sharply. In the beginning of 2012 it picked up again, had its peak around summer of 2013 and has decreased ever since. \n",
    "\n",
    "Regarding a possible explanation, it could be that the network of trust has established already or that the 'technological headstart' that the incumbents have is too much to pick up for newcomers. "
   ]
  },
  {
   "cell_type": "markdown",
   "metadata": {},
   "source": [
    "# 2: Writing nodes and relationships into the neo4j database instance. "
   ]
  },
  {
   "cell_type": "code",
   "execution_count": 15,
   "metadata": {},
   "outputs": [],
   "source": [
    "# Writing nodes\n",
    "for elem in nodeset:\n",
    "    session.run(\"CREATE (a:Node {id: '\" + str(elem) + \"'})\")"
   ]
  },
  {
   "cell_type": "code",
   "execution_count": 16,
   "metadata": {},
   "outputs": [
    {
     "name": "stdout",
     "output_type": "stream",
     "text": [
      "0\n",
      "5000\n",
      "10000\n",
      "15000\n",
      "20000\n",
      "25000\n",
      "30000\n",
      "35000\n"
     ]
    }
   ],
   "source": [
    "# Writing relationships - we specify a directed relationship and store rating and time as \n",
    "# edge properties\n",
    "\n",
    "for i in range(node_network.shape[0]):\n",
    "    source = node_network['SOURCE'].iloc[i]\n",
    "    target = node_network['TARGET'].iloc[i]\n",
    "    rating = node_network['RATING'].iloc[i]\n",
    "    time = node_network['TIME'].iloc[i]\n",
    "\n",
    "    a = \"MATCH (a:Node {id: '\" + str(source) + \"'}) \"\n",
    "    b = \"MATCH (b:Node {id: '\" + str(target) + \"'}) \"\n",
    "    c = \"MERGE (a)-[r:TRUSTS]->(b) \"\n",
    "    d = \"SET r.rating = \" + str(rating)\n",
    "    e = \" SET r.time = \" + str(time)\n",
    "\n",
    "    f = a + b + c + d + e\n",
    "\n",
    "    session.run(f)\n",
    "\n",
    "    if i % 5000 == 0:\n",
    "        print(i)"
   ]
  },
  {
   "cell_type": "markdown",
   "metadata": {},
   "source": [
    "# 3: Analysis on the graph"
   ]
  },
  {
   "cell_type": "code",
   "execution_count": 17,
   "metadata": {},
   "outputs": [],
   "source": [
    "# Let's find the 10 most trusted nodes\n",
    "# We rely on the sum instead of the mean rating as being trusted a little by a lot of other nodes\n",
    "# is more informative than being trusted a lot by a few nodes\n",
    "\n",
    "top10_query = \"\"\"\n",
    "MATCH (a)-[r:TRUSTS]->(b) \n",
    "RETURN b.id, SUM(r.rating) AS COMPOUND\n",
    "ORDER BY COMPOUND DESC\n",
    "LIMIT 10 \n",
    "\"\"\"\n",
    "\n",
    "result = session.run(top10_query).values()"
   ]
  },
  {
   "cell_type": "code",
   "execution_count": 18,
   "metadata": {},
   "outputs": [
    {
     "data": {
      "text/html": [
       "<div>\n",
       "<style scoped>\n",
       "    .dataframe tbody tr th:only-of-type {\n",
       "        vertical-align: middle;\n",
       "    }\n",
       "\n",
       "    .dataframe tbody tr th {\n",
       "        vertical-align: top;\n",
       "    }\n",
       "\n",
       "    .dataframe thead th {\n",
       "        text-align: right;\n",
       "    }\n",
       "</style>\n",
       "<table border=\"1\" class=\"dataframe\">\n",
       "  <thead>\n",
       "    <tr style=\"text-align: right;\">\n",
       "      <th></th>\n",
       "      <th>id</th>\n",
       "      <th>Score</th>\n",
       "    </tr>\n",
       "  </thead>\n",
       "  <tbody>\n",
       "    <tr>\n",
       "      <th>0</th>\n",
       "      <td>2642</td>\n",
       "      <td>1041</td>\n",
       "    </tr>\n",
       "    <tr>\n",
       "      <th>1</th>\n",
       "      <td>35</td>\n",
       "      <td>1016</td>\n",
       "    </tr>\n",
       "    <tr>\n",
       "      <th>2</th>\n",
       "      <td>1</td>\n",
       "      <td>801</td>\n",
       "    </tr>\n",
       "    <tr>\n",
       "      <th>3</th>\n",
       "      <td>7</td>\n",
       "      <td>614</td>\n",
       "    </tr>\n",
       "    <tr>\n",
       "      <th>4</th>\n",
       "      <td>4172</td>\n",
       "      <td>472</td>\n",
       "    </tr>\n",
       "    <tr>\n",
       "      <th>5</th>\n",
       "      <td>1018</td>\n",
       "      <td>471</td>\n",
       "    </tr>\n",
       "    <tr>\n",
       "      <th>6</th>\n",
       "      <td>2125</td>\n",
       "      <td>439</td>\n",
       "    </tr>\n",
       "    <tr>\n",
       "      <th>7</th>\n",
       "      <td>4197</td>\n",
       "      <td>416</td>\n",
       "    </tr>\n",
       "    <tr>\n",
       "      <th>8</th>\n",
       "      <td>4291</td>\n",
       "      <td>360</td>\n",
       "    </tr>\n",
       "    <tr>\n",
       "      <th>9</th>\n",
       "      <td>13</td>\n",
       "      <td>341</td>\n",
       "    </tr>\n",
       "  </tbody>\n",
       "</table>\n",
       "</div>"
      ],
      "text/plain": [
       "     id  Score\n",
       "0  2642   1041\n",
       "1    35   1016\n",
       "2     1    801\n",
       "3     7    614\n",
       "4  4172    472\n",
       "5  1018    471\n",
       "6  2125    439\n",
       "7  4197    416\n",
       "8  4291    360\n",
       "9    13    341"
      ]
     },
     "execution_count": 18,
     "metadata": {},
     "output_type": "execute_result"
    }
   ],
   "source": [
    "top10 = pd.DataFrame(result)\n",
    "top10.columns = ['id', 'Score']\n",
    "top10"
   ]
  },
  {
   "cell_type": "markdown",
   "metadata": {},
   "source": [
    "So, the nodes with id 2642, 35, 1, 6, and 4172 are apparently highly trustful."
   ]
  },
  {
   "cell_type": "code",
   "execution_count": 19,
   "metadata": {},
   "outputs": [],
   "source": [
    "# What about the worst ones?\n",
    "bottom10_query = \"\"\"\n",
    "MATCH (a)-[r:TRUSTS]->(b)\n",
    "RETURN b.id, SUM(r.rating) AS COMPOUND\n",
    "ORDER BY COMPOUND ASC\n",
    "LIMIT 10\n",
    "\"\"\"\n",
    "\n",
    "with driver.session() as sesison:\n",
    "    result = session.run(bottom10_query).values()\n",
    "    session.close()"
   ]
  },
  {
   "cell_type": "code",
   "execution_count": 20,
   "metadata": {},
   "outputs": [
    {
     "data": {
      "text/html": [
       "<div>\n",
       "<style scoped>\n",
       "    .dataframe tbody tr th:only-of-type {\n",
       "        vertical-align: middle;\n",
       "    }\n",
       "\n",
       "    .dataframe tbody tr th {\n",
       "        vertical-align: top;\n",
       "    }\n",
       "\n",
       "    .dataframe thead th {\n",
       "        text-align: right;\n",
       "    }\n",
       "</style>\n",
       "<table border=\"1\" class=\"dataframe\">\n",
       "  <thead>\n",
       "    <tr style=\"text-align: right;\">\n",
       "      <th></th>\n",
       "      <th>id</th>\n",
       "      <th>Score</th>\n",
       "    </tr>\n",
       "  </thead>\n",
       "  <tbody>\n",
       "    <tr>\n",
       "      <th>0</th>\n",
       "      <td>3744</td>\n",
       "      <td>-675</td>\n",
       "    </tr>\n",
       "    <tr>\n",
       "      <th>1</th>\n",
       "      <td>2498</td>\n",
       "      <td>-256</td>\n",
       "    </tr>\n",
       "    <tr>\n",
       "      <th>2</th>\n",
       "      <td>1383</td>\n",
       "      <td>-232</td>\n",
       "    </tr>\n",
       "    <tr>\n",
       "      <th>3</th>\n",
       "      <td>4531</td>\n",
       "      <td>-230</td>\n",
       "    </tr>\n",
       "    <tr>\n",
       "      <th>4</th>\n",
       "      <td>2017</td>\n",
       "      <td>-229</td>\n",
       "    </tr>\n",
       "    <tr>\n",
       "      <th>5</th>\n",
       "      <td>4654</td>\n",
       "      <td>-186</td>\n",
       "    </tr>\n",
       "    <tr>\n",
       "      <th>6</th>\n",
       "      <td>4744</td>\n",
       "      <td>-179</td>\n",
       "    </tr>\n",
       "    <tr>\n",
       "      <th>7</th>\n",
       "      <td>4681</td>\n",
       "      <td>-176</td>\n",
       "    </tr>\n",
       "    <tr>\n",
       "      <th>8</th>\n",
       "      <td>4672</td>\n",
       "      <td>-169</td>\n",
       "    </tr>\n",
       "    <tr>\n",
       "      <th>9</th>\n",
       "      <td>4686</td>\n",
       "      <td>-167</td>\n",
       "    </tr>\n",
       "  </tbody>\n",
       "</table>\n",
       "</div>"
      ],
      "text/plain": [
       "     id  Score\n",
       "0  3744   -675\n",
       "1  2498   -256\n",
       "2  1383   -232\n",
       "3  4531   -230\n",
       "4  2017   -229\n",
       "5  4654   -186\n",
       "6  4744   -179\n",
       "7  4681   -176\n",
       "8  4672   -169\n",
       "9  4686   -167"
      ]
     },
     "execution_count": 20,
     "metadata": {},
     "output_type": "execute_result"
    }
   ],
   "source": [
    "bottom10 = pd.DataFrame(result)\n",
    "bottom10.columns = ['id', 'Score']\n",
    "bottom10"
   ]
  },
  {
   "cell_type": "markdown",
   "metadata": {},
   "source": [
    "Also, the nodes with id 3744, 2498, 1383, 4531, and 2017 are apparently highly distrustful."
   ]
  },
  {
   "cell_type": "markdown",
   "metadata": {},
   "source": [
    "## 3.1 Let's look at difference between in-degrees and out-degrees"
   ]
  },
  {
   "cell_type": "code",
   "execution_count": 21,
   "metadata": {},
   "outputs": [],
   "source": [
    "query = \"\"\"\n",
    "MATCH (a)\n",
    "RETURN a.id, apoc.node.degree.in(a) AS in_degree, apoc.node.degree.out(a) AS out_degree\n",
    "\"\"\"\n",
    "\n",
    "results = session.run(query).values()"
   ]
  },
  {
   "cell_type": "code",
   "execution_count": 22,
   "metadata": {},
   "outputs": [],
   "source": [
    "ins_outs_df = pd.DataFrame(results)\n",
    "ins_outs_df.columns = ['Node', 'inDegree', 'outDegree']"
   ]
  },
  {
   "cell_type": "code",
   "execution_count": 23,
   "metadata": {},
   "outputs": [
    {
     "data": {
      "text/html": [
       "<div>\n",
       "<style scoped>\n",
       "    .dataframe tbody tr th:only-of-type {\n",
       "        vertical-align: middle;\n",
       "    }\n",
       "\n",
       "    .dataframe tbody tr th {\n",
       "        vertical-align: top;\n",
       "    }\n",
       "\n",
       "    .dataframe thead th {\n",
       "        text-align: right;\n",
       "    }\n",
       "</style>\n",
       "<table border=\"1\" class=\"dataframe\">\n",
       "  <thead>\n",
       "    <tr style=\"text-align: right;\">\n",
       "      <th></th>\n",
       "      <th>Node</th>\n",
       "      <th>inDegree</th>\n",
       "      <th>outDegree</th>\n",
       "    </tr>\n",
       "  </thead>\n",
       "  <tbody>\n",
       "    <tr>\n",
       "      <th>0</th>\n",
       "      <td>1</td>\n",
       "      <td>226</td>\n",
       "      <td>215</td>\n",
       "    </tr>\n",
       "    <tr>\n",
       "      <th>1</th>\n",
       "      <td>2</td>\n",
       "      <td>41</td>\n",
       "      <td>45</td>\n",
       "    </tr>\n",
       "    <tr>\n",
       "      <th>2</th>\n",
       "      <td>3</td>\n",
       "      <td>21</td>\n",
       "      <td>0</td>\n",
       "    </tr>\n",
       "    <tr>\n",
       "      <th>3</th>\n",
       "      <td>4</td>\n",
       "      <td>54</td>\n",
       "      <td>63</td>\n",
       "    </tr>\n",
       "    <tr>\n",
       "      <th>4</th>\n",
       "      <td>5</td>\n",
       "      <td>3</td>\n",
       "      <td>3</td>\n",
       "    </tr>\n",
       "    <tr>\n",
       "      <th>...</th>\n",
       "      <td>...</td>\n",
       "      <td>...</td>\n",
       "      <td>...</td>\n",
       "    </tr>\n",
       "    <tr>\n",
       "      <th>5876</th>\n",
       "      <td>6000</td>\n",
       "      <td>0</td>\n",
       "      <td>1</td>\n",
       "    </tr>\n",
       "    <tr>\n",
       "      <th>5877</th>\n",
       "      <td>6002</td>\n",
       "      <td>1</td>\n",
       "      <td>0</td>\n",
       "    </tr>\n",
       "    <tr>\n",
       "      <th>5878</th>\n",
       "      <td>6003</td>\n",
       "      <td>1</td>\n",
       "      <td>0</td>\n",
       "    </tr>\n",
       "    <tr>\n",
       "      <th>5879</th>\n",
       "      <td>6004</td>\n",
       "      <td>1</td>\n",
       "      <td>0</td>\n",
       "    </tr>\n",
       "    <tr>\n",
       "      <th>5880</th>\n",
       "      <td>6005</td>\n",
       "      <td>1</td>\n",
       "      <td>0</td>\n",
       "    </tr>\n",
       "  </tbody>\n",
       "</table>\n",
       "<p>5881 rows × 3 columns</p>\n",
       "</div>"
      ],
      "text/plain": [
       "      Node  inDegree  outDegree\n",
       "0        1       226        215\n",
       "1        2        41         45\n",
       "2        3        21          0\n",
       "3        4        54         63\n",
       "4        5         3          3\n",
       "...    ...       ...        ...\n",
       "5876  6000         0          1\n",
       "5877  6002         1          0\n",
       "5878  6003         1          0\n",
       "5879  6004         1          0\n",
       "5880  6005         1          0\n",
       "\n",
       "[5881 rows x 3 columns]"
      ]
     },
     "execution_count": 23,
     "metadata": {},
     "output_type": "execute_result"
    }
   ],
   "source": [
    "ins_outs_df"
   ]
  },
  {
   "cell_type": "code",
   "execution_count": 24,
   "metadata": {},
   "outputs": [
    {
     "name": "stdout",
     "output_type": "stream",
     "text": [
      "763\n",
      "535\n"
     ]
    }
   ],
   "source": [
    "print(max(ins_outs_df['outDegree']))\n",
    "print(max(ins_outs_df['inDegree']))"
   ]
  },
  {
   "cell_type": "code",
   "execution_count": 25,
   "metadata": {},
   "outputs": [
    {
     "data": {
      "text/plain": [
       "<matplotlib.axes._subplots.AxesSubplot at 0x1fe7fff2948>"
      ]
     },
     "execution_count": 25,
     "metadata": {},
     "output_type": "execute_result"
    },
    {
     "data": {
      "image/png": "[encoded data removed]",
      "text/plain": [
       "<Figure size 864x576 with 1 Axes>"
      ]
     },
     "metadata": {
      "needs_background": "light"
     },
     "output_type": "display_data"
    }
   ],
   "source": [
    "plt.figure(figsize=(12,8))\n",
    "ins_outs_df['inDegree'].hist(bins=20)"
   ]
  },
  {
   "cell_type": "markdown",
   "metadata": {},
   "source": [
    "Very skewed. A lot with a few, and only a handful of nodes with more than 100 (however, up to 535)."
   ]
  },
  {
   "cell_type": "code",
   "execution_count": 26,
   "metadata": {},
   "outputs": [
    {
     "data": {
      "text/plain": [
       "<matplotlib.axes._subplots.AxesSubplot at 0x1fe0124f308>"
      ]
     },
     "execution_count": 26,
     "metadata": {},
     "output_type": "execute_result"
    },
    {
     "data": {
      "image/png": "[encoded data removed]",
      "text/plain": [
       "<Figure size 864x576 with 1 Axes>"
      ]
     },
     "metadata": {
      "needs_background": "light"
     },
     "output_type": "display_data"
    }
   ],
   "source": [
    "plt.figure(figsize=(12,8))\n",
    "ins_outs_df['outDegree'].hist(bins=20)"
   ]
  },
  {
   "cell_type": "markdown",
   "metadata": {},
   "source": [
    "Basically the same story. The only difference being that the out-degrees go up to 763."
   ]
  },
  {
   "cell_type": "code",
   "execution_count": 27,
   "metadata": {},
   "outputs": [
    {
     "data": {
      "text/plain": [
       "<matplotlib.collections.PathCollection at 0x1fe013ec708>"
      ]
     },
     "execution_count": 27,
     "metadata": {},
     "output_type": "execute_result"
    },
    {
     "data": {
      "image/png": "[encoded data removed]",
      "text/plain": [
       "<Figure size 864x576 with 1 Axes>"
      ]
     },
     "metadata": {
      "needs_background": "light"
     },
     "output_type": "display_data"
    }
   ],
   "source": [
    "# Let us have a look at the correlation between in-degree and out-degree\n",
    "plt.figure(figsize=(12,8))\n",
    "plt.scatter(x=ins_outs_df['outDegree'], y=ins_outs_df['inDegree'])"
   ]
  },
  {
   "cell_type": "markdown",
   "metadata": {},
   "source": [
    "It seems to be the case that there is a positive correlation, i.e., a high in-degree leading to a high out-degree.\n",
    "However, that could be skewed because the data is very cluttered around the two (0-100) ranges. So, let's zoom in a bit."
   ]
  },
  {
   "cell_type": "code",
   "execution_count": 28,
   "metadata": {},
   "outputs": [
    {
     "data": {
      "text/plain": [
       "(0.0, 100.0)"
      ]
     },
     "execution_count": 28,
     "metadata": {},
     "output_type": "execute_result"
    },
    {
     "data": {
      "image/png": "[encoded data removed]",
      "text/plain": [
       "<Figure size 864x576 with 1 Axes>"
      ]
     },
     "metadata": {
      "needs_background": "light"
     },
     "output_type": "display_data"
    }
   ],
   "source": [
    "plt.figure(figsize=(12,8))\n",
    "plt.scatter(x=ins_outs_df['outDegree'], \n",
    "           y=ins_outs_df['inDegree'])\n",
    "\n",
    "plt.xlim(0, 100)\n",
    "plt.ylim(0, 100)"
   ]
  },
  {
   "cell_type": "markdown",
   "metadata": {},
   "source": [
    "This confirms it."
   ]
  },
  {
   "cell_type": "code",
   "execution_count": 29,
   "metadata": {},
   "outputs": [],
   "source": [
    "# Let's look again at the top nodes.\n",
    "query = \"\"\"\n",
    "MATCH (a)-[r:TRUSTS]->(b)\n",
    "WITH  a, count(r) AS outs\n",
    "ORDER BY outs DESC\n",
    "LIMIT 10\n",
    "WITH a, outs\n",
    "MATCH (c)-[r2:TRUSTS]->(a)\n",
    "RETURN outs, count(r2) AS ins, a.id as node\n",
    "\"\"\"\n",
    "\n",
    "results = session.run(query).values()"
   ]
  },
  {
   "cell_type": "code",
   "execution_count": 30,
   "metadata": {},
   "outputs": [
    {
     "data": {
      "text/html": [
       "<div>\n",
       "<style scoped>\n",
       "    .dataframe tbody tr th:only-of-type {\n",
       "        vertical-align: middle;\n",
       "    }\n",
       "\n",
       "    .dataframe tbody tr th {\n",
       "        vertical-align: top;\n",
       "    }\n",
       "\n",
       "    .dataframe thead th {\n",
       "        text-align: right;\n",
       "    }\n",
       "</style>\n",
       "<table border=\"1\" class=\"dataframe\">\n",
       "  <thead>\n",
       "    <tr style=\"text-align: right;\">\n",
       "      <th></th>\n",
       "      <th>OutDegree</th>\n",
       "      <th>InDegree</th>\n",
       "      <th>NodeId</th>\n",
       "    </tr>\n",
       "  </thead>\n",
       "  <tbody>\n",
       "    <tr>\n",
       "      <th>0</th>\n",
       "      <td>763</td>\n",
       "      <td>535</td>\n",
       "      <td>35</td>\n",
       "    </tr>\n",
       "    <tr>\n",
       "      <th>1</th>\n",
       "      <td>406</td>\n",
       "      <td>412</td>\n",
       "      <td>2642</td>\n",
       "    </tr>\n",
       "    <tr>\n",
       "      <th>2</th>\n",
       "      <td>404</td>\n",
       "      <td>311</td>\n",
       "      <td>1810</td>\n",
       "    </tr>\n",
       "    <tr>\n",
       "      <th>3</th>\n",
       "      <td>397</td>\n",
       "      <td>180</td>\n",
       "      <td>2125</td>\n",
       "    </tr>\n",
       "    <tr>\n",
       "      <th>4</th>\n",
       "      <td>293</td>\n",
       "      <td>279</td>\n",
       "      <td>2028</td>\n",
       "    </tr>\n",
       "    <tr>\n",
       "      <th>5</th>\n",
       "      <td>264</td>\n",
       "      <td>264</td>\n",
       "      <td>905</td>\n",
       "    </tr>\n",
       "    <tr>\n",
       "      <th>6</th>\n",
       "      <td>264</td>\n",
       "      <td>222</td>\n",
       "      <td>4172</td>\n",
       "    </tr>\n",
       "    <tr>\n",
       "      <th>7</th>\n",
       "      <td>232</td>\n",
       "      <td>216</td>\n",
       "      <td>7</td>\n",
       "    </tr>\n",
       "    <tr>\n",
       "      <th>8</th>\n",
       "      <td>215</td>\n",
       "      <td>226</td>\n",
       "      <td>1</td>\n",
       "    </tr>\n",
       "    <tr>\n",
       "      <th>9</th>\n",
       "      <td>212</td>\n",
       "      <td>17</td>\n",
       "      <td>3129</td>\n",
       "    </tr>\n",
       "  </tbody>\n",
       "</table>\n",
       "</div>"
      ],
      "text/plain": [
       "   OutDegree  InDegree NodeId\n",
       "0        763       535     35\n",
       "1        406       412   2642\n",
       "2        404       311   1810\n",
       "3        397       180   2125\n",
       "4        293       279   2028\n",
       "5        264       264    905\n",
       "6        264       222   4172\n",
       "7        232       216      7\n",
       "8        215       226      1\n",
       "9        212        17   3129"
      ]
     },
     "execution_count": 30,
     "metadata": {},
     "output_type": "execute_result"
    }
   ],
   "source": [
    "outs_ins = pd.DataFrame(results)\n",
    "outs_ins.columns = ['OutDegree', 'InDegree', 'NodeId']\n",
    "outs_ins"
   ]
  },
  {
   "cell_type": "markdown",
   "metadata": {},
   "source": [
    "## 3.2 How many nodes can be reached from the 'top 10 nodes'?"
   ]
  },
  {
   "cell_type": "markdown",
   "metadata": {},
   "source": [
    "### 3.2.1 One hop away"
   ]
  },
  {
   "cell_type": "code",
   "execution_count": 31,
   "metadata": {},
   "outputs": [
    {
     "data": {
      "text/plain": [
       "[[2418]]"
      ]
     },
     "execution_count": 31,
     "metadata": {},
     "output_type": "execute_result"
    }
   ],
   "source": [
    "query = \"\"\"\n",
    "MATCH (a)\n",
    "WITH a, apoc.node.degree(a) AS degree\n",
    "ORDER BY degree DESC \n",
    "LIMIT 10\n",
    "MATCH (a)-[:TRUSTS]-(b)\n",
    "RETURN count(DISTINCT b)\n",
    "\"\"\"\n",
    "\n",
    "results = session.run(query).values()\n",
    "results"
   ]
  },
  {
   "cell_type": "code",
   "execution_count": 32,
   "metadata": {},
   "outputs": [
    {
     "name": "stdout",
     "output_type": "stream",
     "text": [
      "0.4111545655500765\n"
     ]
    }
   ],
   "source": [
    "print(results[0][0]/len(nodeset))"
   ]
  },
  {
   "cell_type": "markdown",
   "metadata": {},
   "source": [
    "Thus, more than 40% of all nodes are connected to the 'top 10'."
   ]
  },
  {
   "cell_type": "markdown",
   "metadata": {},
   "source": [
    "### 3.2.2 Two hops away"
   ]
  },
  {
   "cell_type": "code",
   "execution_count": 33,
   "metadata": {},
   "outputs": [
    {
     "data": {
      "text/plain": [
       "[[5329]]"
      ]
     },
     "execution_count": 33,
     "metadata": {},
     "output_type": "execute_result"
    }
   ],
   "source": [
    "# Let's check how many nodes are two hops away\n",
    "query = \"\"\"\n",
    "MATCH (a)\n",
    "WITH a, apoc.node.degree(a) AS degree \n",
    "ORDER BY degree DESC \n",
    "LIMIT 10\n",
    "WITH a, degree\n",
    "MATCH (a)-[:TRUSTS*1..2]-(b)\n",
    "RETURN count(DISTINCT b)\n",
    "\"\"\"\n",
    "\n",
    "results = session.run(query).values()\n",
    "results"
   ]
  },
  {
   "cell_type": "code",
   "execution_count": 34,
   "metadata": {},
   "outputs": [
    {
     "name": "stdout",
     "output_type": "stream",
     "text": [
      "0.906138411834722\n"
     ]
    }
   ],
   "source": [
    "print(results[0][0]/len(nodeset))"
   ]
  },
  {
   "cell_type": "markdown",
   "metadata": {},
   "source": [
    "Thus, roughly 9 out of 10 nodes are only two hops away from the top 10 nodes. "
   ]
  },
  {
   "cell_type": "markdown",
   "metadata": {},
   "source": [
    "## 3.3 Checking the number of dyadic and triadic relationships"
   ]
  },
  {
   "cell_type": "code",
   "execution_count": 35,
   "metadata": {},
   "outputs": [],
   "source": [
    "# Okay, let's check how many direct bi-directional relationships there are \n",
    "bi_query = \"\"\"\n",
    "MATCH (a)-[r:TRUSTS]->(b)-[r2:TRUSTS]->(a)\n",
    "WHERE a.id < b.id //This statement is needed to ensure that no tuples are counted twice.\n",
    "RETURN DISTINCT [a.id,b.id]\n",
    "\"\"\"\n",
    "result = session.run(bi_query).values()"
   ]
  },
  {
   "cell_type": "code",
   "execution_count": 36,
   "metadata": {},
   "outputs": [
    {
     "data": {
      "text/plain": [
       "14100"
      ]
     },
     "execution_count": 36,
     "metadata": {},
     "output_type": "execute_result"
    }
   ],
   "source": [
    "len(result)"
   ]
  },
  {
   "cell_type": "code",
   "execution_count": 37,
   "metadata": {},
   "outputs": [],
   "source": [
    "# 14,100 bidirectional queries, but let's see the sentiment in those.\n",
    "\n",
    "query = \"\"\"\n",
    "MATCH (a)-[r1:TRUSTS]->(b)-[r2:TRUSTS]->(a)\n",
    "WHERE a.id < b.id\n",
    "RETURN a.id, b.id, r1.rating, r2.rating\n",
    "\"\"\"\n",
    "\n",
    "result = session.run(query).values()"
   ]
  },
  {
   "cell_type": "code",
   "execution_count": 38,
   "metadata": {},
   "outputs": [
    {
     "data": {
      "text/html": [
       "<div>\n",
       "<style scoped>\n",
       "    .dataframe tbody tr th:only-of-type {\n",
       "        vertical-align: middle;\n",
       "    }\n",
       "\n",
       "    .dataframe tbody tr th {\n",
       "        vertical-align: top;\n",
       "    }\n",
       "\n",
       "    .dataframe thead th {\n",
       "        text-align: right;\n",
       "    }\n",
       "</style>\n",
       "<table border=\"1\" class=\"dataframe\">\n",
       "  <thead>\n",
       "    <tr style=\"text-align: right;\">\n",
       "      <th></th>\n",
       "      <th>NodeA</th>\n",
       "      <th>NodeB</th>\n",
       "      <th>AB_Sent</th>\n",
       "      <th>BA_Sent</th>\n",
       "    </tr>\n",
       "  </thead>\n",
       "  <tbody>\n",
       "    <tr>\n",
       "      <th>0</th>\n",
       "      <td>1</td>\n",
       "      <td>114</td>\n",
       "      <td>2</td>\n",
       "      <td>2</td>\n",
       "    </tr>\n",
       "    <tr>\n",
       "      <th>1</th>\n",
       "      <td>1</td>\n",
       "      <td>5925</td>\n",
       "      <td>2</td>\n",
       "      <td>3</td>\n",
       "    </tr>\n",
       "    <tr>\n",
       "      <th>2</th>\n",
       "      <td>1</td>\n",
       "      <td>1810</td>\n",
       "      <td>3</td>\n",
       "      <td>4</td>\n",
       "    </tr>\n",
       "    <tr>\n",
       "      <th>3</th>\n",
       "      <td>1</td>\n",
       "      <td>4921</td>\n",
       "      <td>2</td>\n",
       "      <td>10</td>\n",
       "    </tr>\n",
       "    <tr>\n",
       "      <th>4</th>\n",
       "      <td>1</td>\n",
       "      <td>115</td>\n",
       "      <td>1</td>\n",
       "      <td>1</td>\n",
       "    </tr>\n",
       "    <tr>\n",
       "      <th>...</th>\n",
       "      <td>...</td>\n",
       "      <td>...</td>\n",
       "      <td>...</td>\n",
       "      <td>...</td>\n",
       "    </tr>\n",
       "    <tr>\n",
       "      <th>14095</th>\n",
       "      <td>5950</td>\n",
       "      <td>5954</td>\n",
       "      <td>4</td>\n",
       "      <td>6</td>\n",
       "    </tr>\n",
       "    <tr>\n",
       "      <th>14096</th>\n",
       "      <td>5950</td>\n",
       "      <td>5951</td>\n",
       "      <td>4</td>\n",
       "      <td>5</td>\n",
       "    </tr>\n",
       "    <tr>\n",
       "      <th>14097</th>\n",
       "      <td>5955</td>\n",
       "      <td>5958</td>\n",
       "      <td>10</td>\n",
       "      <td>10</td>\n",
       "    </tr>\n",
       "    <tr>\n",
       "      <th>14098</th>\n",
       "      <td>5965</td>\n",
       "      <td>5983</td>\n",
       "      <td>1</td>\n",
       "      <td>1</td>\n",
       "    </tr>\n",
       "    <tr>\n",
       "      <th>14099</th>\n",
       "      <td>5969</td>\n",
       "      <td>5970</td>\n",
       "      <td>1</td>\n",
       "      <td>1</td>\n",
       "    </tr>\n",
       "  </tbody>\n",
       "</table>\n",
       "<p>14100 rows × 4 columns</p>\n",
       "</div>"
      ],
      "text/plain": [
       "      NodeA NodeB  AB_Sent  BA_Sent\n",
       "0         1   114        2        2\n",
       "1         1  5925        2        3\n",
       "2         1  1810        3        4\n",
       "3         1  4921        2       10\n",
       "4         1   115        1        1\n",
       "...     ...   ...      ...      ...\n",
       "14095  5950  5954        4        6\n",
       "14096  5950  5951        4        5\n",
       "14097  5955  5958       10       10\n",
       "14098  5965  5983        1        1\n",
       "14099  5969  5970        1        1\n",
       "\n",
       "[14100 rows x 4 columns]"
      ]
     },
     "execution_count": 38,
     "metadata": {},
     "output_type": "execute_result"
    }
   ],
   "source": [
    "bi_dir_df = pd.DataFrame(result)\n",
    "bi_dir_df.columns = ['NodeA', 'NodeB', 'AB_Sent', 'BA_Sent']\n",
    "bi_dir_df"
   ]
  },
  {
   "cell_type": "code",
   "execution_count": 39,
   "metadata": {},
   "outputs": [
    {
     "data": {
      "text/plain": [
       "<matplotlib.axes._subplots.AxesSubplot at 0x1fe7ffb9588>"
      ]
     },
     "execution_count": 39,
     "metadata": {},
     "output_type": "execute_result"
    },
    {
     "data": {
      "image/png": "[encoded data removed]",
      "text/plain": [
       "<Figure size 864x576 with 1 Axes>"
      ]
     },
     "metadata": {
      "needs_background": "light"
     },
     "output_type": "display_data"
    }
   ],
   "source": [
    "plt.figure(figsize=(12,8))\n",
    "bi_dir_df['AB_Sent'].hist()"
   ]
  },
  {
   "cell_type": "code",
   "execution_count": 40,
   "metadata": {},
   "outputs": [
    {
     "data": {
      "text/plain": [
       "<matplotlib.axes._subplots.AxesSubplot at 0x1fe7fd645c8>"
      ]
     },
     "execution_count": 40,
     "metadata": {},
     "output_type": "execute_result"
    },
    {
     "data": {
      "image/png": "[encoded data removed]",
      "text/plain": [
       "<Figure size 864x576 with 1 Axes>"
      ]
     },
     "metadata": {
      "needs_background": "light"
     },
     "output_type": "display_data"
    }
   ],
   "source": [
    "plt.figure(figsize=(12,8))\n",
    "bi_dir_df['BA_Sent'].hist()"
   ]
  },
  {
   "cell_type": "markdown",
   "metadata": {},
   "source": [
    "Interestingly, no big difference in the distribution of the ratings compared to the distribution 'overall'. "
   ]
  },
  {
   "cell_type": "code",
   "execution_count": 41,
   "metadata": {},
   "outputs": [
    {
     "data": {
      "text/plain": [
       "<matplotlib.axes._subplots.AxesSubplot at 0x1fe7ff4ff08>"
      ]
     },
     "execution_count": 41,
     "metadata": {},
     "output_type": "execute_result"
    },
    {
     "data": {
      "image/png": "[encoded data removed]",
      "text/plain": [
       "<Figure size 864x576 with 1 Axes>"
      ]
     },
     "metadata": {
      "needs_background": "light"
     },
     "output_type": "display_data"
    }
   ],
   "source": [
    "# Let's sum it.\n",
    "bi_dir_df['Sum'] = bi_dir_df['AB_Sent'] + bi_dir_df['BA_Sent']\n",
    "plt.figure(figsize=(12,8))\n",
    "bi_dir_df['Sum'].hist()"
   ]
  },
  {
   "cell_type": "markdown",
   "metadata": {},
   "source": [
    "It's basically the same. "
   ]
  },
  {
   "cell_type": "code",
   "execution_count": 42,
   "metadata": {},
   "outputs": [],
   "source": [
    "# So much about bi-directional queries, but what about triadic relationships? \n",
    "\n",
    "tri_query = \"\"\"\n",
    "MATCH (a)-[r1:TRUSTS]->(b)-[r2:TRUSTS]->(c)-[r3:TRUSTS]->(a)\n",
    "WHERE a.id < b.id < c.id\n",
    "WITH  [a.id, b.id, c.id] AS tuples\n",
    "RETURN count(tuples)\n",
    "\"\"\"\n",
    "\n",
    "result = session.run(tri_query).values()"
   ]
  },
  {
   "cell_type": "code",
   "execution_count": 43,
   "metadata": {},
   "outputs": [
    {
     "data": {
      "text/plain": [
       "[[19469]]"
      ]
     },
     "execution_count": 43,
     "metadata": {},
     "output_type": "execute_result"
    }
   ],
   "source": [
    "result"
   ]
  },
  {
   "cell_type": "code",
   "execution_count": 44,
   "metadata": {},
   "outputs": [],
   "source": [
    "sub_query = \"\"\"\n",
    "MATCH (a)-[r1:TRUSTS]->(b)-[r2:TRUSTS]->(c)-[r3:TRUSTS]->(a)\n",
    "WITH  [a.id, b.id, c.id] AS tuples\n",
    "RETURN tuples\n",
    "\"\"\"\n",
    "res = session.run(sub_query).values()"
   ]
  },
  {
   "cell_type": "code",
   "execution_count": 45,
   "metadata": {},
   "outputs": [],
   "source": [
    "unique_triplets = []\n",
    "\n",
    "for elem in res:\n",
    "    if set(elem[0]) not in unique_triplets:\n",
    "        unique_triplets.append(set(elem[0]))\n",
    "    else:\n",
    "        pass"
   ]
  },
  {
   "cell_type": "code",
   "execution_count": 46,
   "metadata": {},
   "outputs": [
    {
     "data": {
      "text/plain": [
       "24829"
      ]
     },
     "execution_count": 46,
     "metadata": {},
     "output_type": "execute_result"
    }
   ],
   "source": [
    "len(unique_triplets)"
   ]
  },
  {
   "cell_type": "code",
   "execution_count": 47,
   "metadata": {},
   "outputs": [],
   "source": [
    "# A few more relationships, but let's investigate further"
   ]
  },
  {
   "cell_type": "code",
   "execution_count": 48,
   "metadata": {},
   "outputs": [],
   "source": [
    "query = \"\"\"\n",
    "MATCH (a)-[r1:TRUSTS]->(b)-[r2:TRUSTS]->(c)-[r3:TRUSTS]->(a)\n",
    "WHERE a.id < b.id < c.id\n",
    "RETURN a.id, b.id, c.id, r1.rating, r2.rating, r3.rating\n",
    "\"\"\"\n",
    "\n",
    "result = session.run(query).values()"
   ]
  },
  {
   "cell_type": "code",
   "execution_count": 49,
   "metadata": {},
   "outputs": [
    {
     "data": {
      "text/html": [
       "<div>\n",
       "<style scoped>\n",
       "    .dataframe tbody tr th:only-of-type {\n",
       "        vertical-align: middle;\n",
       "    }\n",
       "\n",
       "    .dataframe tbody tr th {\n",
       "        vertical-align: top;\n",
       "    }\n",
       "\n",
       "    .dataframe thead th {\n",
       "        text-align: right;\n",
       "    }\n",
       "</style>\n",
       "<table border=\"1\" class=\"dataframe\">\n",
       "  <thead>\n",
       "    <tr style=\"text-align: right;\">\n",
       "      <th></th>\n",
       "      <th>A</th>\n",
       "      <th>B</th>\n",
       "      <th>C</th>\n",
       "      <th>AB_Sent</th>\n",
       "      <th>BC_Sent</th>\n",
       "      <th>CA_Sent</th>\n",
       "    </tr>\n",
       "  </thead>\n",
       "  <tbody>\n",
       "    <tr>\n",
       "      <th>0</th>\n",
       "      <td>13</td>\n",
       "      <td>2</td>\n",
       "      <td>744</td>\n",
       "      <td>2</td>\n",
       "      <td>1</td>\n",
       "      <td>1</td>\n",
       "    </tr>\n",
       "    <tr>\n",
       "      <th>1</th>\n",
       "      <td>1</td>\n",
       "      <td>2</td>\n",
       "      <td>41</td>\n",
       "      <td>8</td>\n",
       "      <td>2</td>\n",
       "      <td>8</td>\n",
       "    </tr>\n",
       "    <tr>\n",
       "      <th>2</th>\n",
       "      <td>10</td>\n",
       "      <td>2</td>\n",
       "      <td>41</td>\n",
       "      <td>7</td>\n",
       "      <td>2</td>\n",
       "      <td>4</td>\n",
       "    </tr>\n",
       "    <tr>\n",
       "      <th>3</th>\n",
       "      <td>13</td>\n",
       "      <td>2</td>\n",
       "      <td>41</td>\n",
       "      <td>2</td>\n",
       "      <td>2</td>\n",
       "      <td>3</td>\n",
       "    </tr>\n",
       "    <tr>\n",
       "      <th>4</th>\n",
       "      <td>110</td>\n",
       "      <td>2</td>\n",
       "      <td>41</td>\n",
       "      <td>1</td>\n",
       "      <td>2</td>\n",
       "      <td>1</td>\n",
       "    </tr>\n",
       "    <tr>\n",
       "      <th>...</th>\n",
       "      <td>...</td>\n",
       "      <td>...</td>\n",
       "      <td>...</td>\n",
       "      <td>...</td>\n",
       "      <td>...</td>\n",
       "      <td>...</td>\n",
       "    </tr>\n",
       "    <tr>\n",
       "      <th>19464</th>\n",
       "      <td>4205</td>\n",
       "      <td>5950</td>\n",
       "      <td>5951</td>\n",
       "      <td>1</td>\n",
       "      <td>4</td>\n",
       "      <td>1</td>\n",
       "    </tr>\n",
       "    <tr>\n",
       "      <th>19465</th>\n",
       "      <td>4205</td>\n",
       "      <td>5955</td>\n",
       "      <td>5958</td>\n",
       "      <td>3</td>\n",
       "      <td>10</td>\n",
       "      <td>2</td>\n",
       "    </tr>\n",
       "    <tr>\n",
       "      <th>19466</th>\n",
       "      <td>5943</td>\n",
       "      <td>5955</td>\n",
       "      <td>5958</td>\n",
       "      <td>3</td>\n",
       "      <td>10</td>\n",
       "      <td>3</td>\n",
       "    </tr>\n",
       "    <tr>\n",
       "      <th>19467</th>\n",
       "      <td>1810</td>\n",
       "      <td>5965</td>\n",
       "      <td>5983</td>\n",
       "      <td>1</td>\n",
       "      <td>1</td>\n",
       "      <td>4</td>\n",
       "    </tr>\n",
       "    <tr>\n",
       "      <th>19468</th>\n",
       "      <td>2388</td>\n",
       "      <td>5965</td>\n",
       "      <td>5983</td>\n",
       "      <td>2</td>\n",
       "      <td>1</td>\n",
       "      <td>2</td>\n",
       "    </tr>\n",
       "  </tbody>\n",
       "</table>\n",
       "<p>19469 rows × 6 columns</p>\n",
       "</div>"
      ],
      "text/plain": [
       "          A     B     C  AB_Sent  BC_Sent  CA_Sent\n",
       "0        13     2   744        2        1        1\n",
       "1         1     2    41        8        2        8\n",
       "2        10     2    41        7        2        4\n",
       "3        13     2    41        2        2        3\n",
       "4       110     2    41        1        2        1\n",
       "...     ...   ...   ...      ...      ...      ...\n",
       "19464  4205  5950  5951        1        4        1\n",
       "19465  4205  5955  5958        3       10        2\n",
       "19466  5943  5955  5958        3       10        3\n",
       "19467  1810  5965  5983        1        1        4\n",
       "19468  2388  5965  5983        2        1        2\n",
       "\n",
       "[19469 rows x 6 columns]"
      ]
     },
     "execution_count": 49,
     "metadata": {},
     "output_type": "execute_result"
    }
   ],
   "source": [
    "tri_dir_df = pd.DataFrame(result)\n",
    "tri_dir_df.columns = ['A', 'B', 'C', 'AB_Sent', 'BC_Sent', 'CA_Sent']\n",
    "tri_dir_df"
   ]
  },
  {
   "cell_type": "code",
   "execution_count": 50,
   "metadata": {},
   "outputs": [
    {
     "data": {
      "text/plain": [
       "(array([9.180e+02, 4.000e+00, 0.000e+00, 5.000e+00, 5.000e+00, 4.900e+01,\n",
       "        8.000e+00, 2.200e+01, 6.600e+01, 1.620e+02, 0.000e+00, 8.643e+03,\n",
       "        3.422e+03, 2.248e+03, 9.910e+02, 1.101e+03, 4.360e+02, 2.850e+02,\n",
       "        3.360e+02, 7.680e+02]),\n",
       " array([-10.,  -9.,  -8.,  -7.,  -6.,  -5.,  -4.,  -3.,  -2.,  -1.,   0.,\n",
       "          1.,   2.,   3.,   4.,   5.,   6.,   7.,   8.,   9.,  10.]),\n",
       " <a list of 20 Patch objects>)"
      ]
     },
     "execution_count": 50,
     "metadata": {},
     "output_type": "execute_result"
    },
    {
     "data": {
      "image/png": "[encoded data removed]",
      "text/plain": [
       "<Figure size 864x864 with 3 Axes>"
      ]
     },
     "metadata": {
      "needs_background": "light"
     },
     "output_type": "display_data"
    }
   ],
   "source": [
    "fig, axs = plt.subplots(3,1,figsize=(12,12))\n",
    "#fig.suptitle('Vertically stacked subplots')\n",
    "axs[0].hist(tri_dir_df['AB_Sent'], bins=20)\n",
    "axs[1].hist(tri_dir_df['BC_Sent'], bins=20)\n",
    "axs[2].hist(tri_dir_df['CA_Sent'], bins=20)"
   ]
  },
  {
   "cell_type": "code",
   "execution_count": 51,
   "metadata": {},
   "outputs": [
    {
     "data": {
      "text/plain": [
       "<matplotlib.axes._subplots.AxesSubplot at 0x1fe05483a48>"
      ]
     },
     "execution_count": 51,
     "metadata": {},
     "output_type": "execute_result"
    },
    {
     "data": {
      "image/png": "[encoded data removed]",
      "text/plain": [
       "<Figure size 864x576 with 1 Axes>"
      ]
     },
     "metadata": {
      "needs_background": "light"
     },
     "output_type": "display_data"
    }
   ],
   "source": [
    "# Summing the sentiment\n",
    "plt.figure(figsize=(12,8))\n",
    "tri_dir_df['Sum'] = (tri_dir_df['AB_Sent'] + tri_dir_df['BC_Sent'] + tri_dir_df['CA_Sent']) / 3\n",
    "tri_dir_df['Sum'].hist()"
   ]
  },
  {
   "cell_type": "markdown",
   "metadata": {},
   "source": [
    "# 4: Can we find anomalies? "
   ]
  },
  {
   "cell_type": "code",
   "execution_count": 52,
   "metadata": {},
   "outputs": [],
   "source": [
    "# Let's start by doing the following: We put the mean rating and the standard deviation \n",
    "# of the rating as node properties\n",
    "\n",
    "query = \"\"\"\n",
    "MATCH (p1)-[r:TRUSTS]->(p2)\n",
    "WITH p2, AVG(r.rating) AS mean_rating, STDEV(r.rating) AS stddev_rating\n",
    "SET p2.mean_rating = mean_rating\n",
    "SET p2.stddev_rating = stddev_rating\n",
    "\"\"\"\n",
    "\n",
    "results = session.run(query)"
   ]
  },
  {
   "cell_type": "code",
   "execution_count": 53,
   "metadata": {},
   "outputs": [
    {
     "data": {
      "text/html": [
       "<div>\n",
       "<style scoped>\n",
       "    .dataframe tbody tr th:only-of-type {\n",
       "        vertical-align: middle;\n",
       "    }\n",
       "\n",
       "    .dataframe tbody tr th {\n",
       "        vertical-align: top;\n",
       "    }\n",
       "\n",
       "    .dataframe thead th {\n",
       "        text-align: right;\n",
       "    }\n",
       "</style>\n",
       "<table border=\"1\" class=\"dataframe\">\n",
       "  <thead>\n",
       "    <tr style=\"text-align: right;\">\n",
       "      <th></th>\n",
       "      <th>p1</th>\n",
       "      <th>p1_meanRating</th>\n",
       "      <th>p2_to_p1_rating</th>\n",
       "      <th>p2</th>\n",
       "      <th>p2_meanRating</th>\n",
       "      <th>p1_to_p2_rating</th>\n",
       "    </tr>\n",
       "  </thead>\n",
       "  <tbody>\n",
       "    <tr>\n",
       "      <th>0</th>\n",
       "      <td>3744</td>\n",
       "      <td>-8.333333</td>\n",
       "      <td>10</td>\n",
       "      <td>3756</td>\n",
       "      <td>-6.190476</td>\n",
       "      <td>10</td>\n",
       "    </tr>\n",
       "    <tr>\n",
       "      <th>1</th>\n",
       "      <td>3744</td>\n",
       "      <td>-8.333333</td>\n",
       "      <td>10</td>\n",
       "      <td>3759</td>\n",
       "      <td>-7.500000</td>\n",
       "      <td>10</td>\n",
       "    </tr>\n",
       "    <tr>\n",
       "      <th>2</th>\n",
       "      <td>3744</td>\n",
       "      <td>-8.333333</td>\n",
       "      <td>10</td>\n",
       "      <td>3760</td>\n",
       "      <td>-8.823529</td>\n",
       "      <td>10</td>\n",
       "    </tr>\n",
       "    <tr>\n",
       "      <th>3</th>\n",
       "      <td>3756</td>\n",
       "      <td>-6.190476</td>\n",
       "      <td>10</td>\n",
       "      <td>3757</td>\n",
       "      <td>-6.190476</td>\n",
       "      <td>10</td>\n",
       "    </tr>\n",
       "    <tr>\n",
       "      <th>4</th>\n",
       "      <td>4678</td>\n",
       "      <td>-7.800000</td>\n",
       "      <td>1</td>\n",
       "      <td>4682</td>\n",
       "      <td>-7.800000</td>\n",
       "      <td>1</td>\n",
       "    </tr>\n",
       "    <tr>\n",
       "      <th>5</th>\n",
       "      <td>4678</td>\n",
       "      <td>-7.800000</td>\n",
       "      <td>1</td>\n",
       "      <td>4681</td>\n",
       "      <td>-8.000000</td>\n",
       "      <td>1</td>\n",
       "    </tr>\n",
       "    <tr>\n",
       "      <th>6</th>\n",
       "      <td>4678</td>\n",
       "      <td>-7.800000</td>\n",
       "      <td>1</td>\n",
       "      <td>4679</td>\n",
       "      <td>-7.904762</td>\n",
       "      <td>1</td>\n",
       "    </tr>\n",
       "    <tr>\n",
       "      <th>7</th>\n",
       "      <td>4679</td>\n",
       "      <td>-7.904762</td>\n",
       "      <td>1</td>\n",
       "      <td>4682</td>\n",
       "      <td>-7.800000</td>\n",
       "      <td>1</td>\n",
       "    </tr>\n",
       "    <tr>\n",
       "      <th>8</th>\n",
       "      <td>4679</td>\n",
       "      <td>-7.904762</td>\n",
       "      <td>1</td>\n",
       "      <td>4680</td>\n",
       "      <td>-7.904762</td>\n",
       "      <td>1</td>\n",
       "    </tr>\n",
       "    <tr>\n",
       "      <th>9</th>\n",
       "      <td>4679</td>\n",
       "      <td>-7.904762</td>\n",
       "      <td>1</td>\n",
       "      <td>4681</td>\n",
       "      <td>-8.000000</td>\n",
       "      <td>1</td>\n",
       "    </tr>\n",
       "    <tr>\n",
       "      <th>10</th>\n",
       "      <td>4680</td>\n",
       "      <td>-7.904762</td>\n",
       "      <td>1</td>\n",
       "      <td>4682</td>\n",
       "      <td>-7.800000</td>\n",
       "      <td>1</td>\n",
       "    </tr>\n",
       "    <tr>\n",
       "      <th>11</th>\n",
       "      <td>4680</td>\n",
       "      <td>-7.904762</td>\n",
       "      <td>1</td>\n",
       "      <td>4681</td>\n",
       "      <td>-8.000000</td>\n",
       "      <td>1</td>\n",
       "    </tr>\n",
       "    <tr>\n",
       "      <th>12</th>\n",
       "      <td>4681</td>\n",
       "      <td>-8.000000</td>\n",
       "      <td>1</td>\n",
       "      <td>4682</td>\n",
       "      <td>-7.800000</td>\n",
       "      <td>1</td>\n",
       "    </tr>\n",
       "  </tbody>\n",
       "</table>\n",
       "</div>"
      ],
      "text/plain": [
       "      p1  p1_meanRating  p2_to_p1_rating    p2  p2_meanRating  p1_to_p2_rating\n",
       "0   3744      -8.333333               10  3756      -6.190476               10\n",
       "1   3744      -8.333333               10  3759      -7.500000               10\n",
       "2   3744      -8.333333               10  3760      -8.823529               10\n",
       "3   3756      -6.190476               10  3757      -6.190476               10\n",
       "4   4678      -7.800000                1  4682      -7.800000                1\n",
       "5   4678      -7.800000                1  4681      -8.000000                1\n",
       "6   4678      -7.800000                1  4679      -7.904762                1\n",
       "7   4679      -7.904762                1  4682      -7.800000                1\n",
       "8   4679      -7.904762                1  4680      -7.904762                1\n",
       "9   4679      -7.904762                1  4681      -8.000000                1\n",
       "10  4680      -7.904762                1  4682      -7.800000                1\n",
       "11  4680      -7.904762                1  4681      -8.000000                1\n",
       "12  4681      -8.000000                1  4682      -7.800000                1"
      ]
     },
     "execution_count": 53,
     "metadata": {},
     "output_type": "execute_result"
    }
   ],
   "source": [
    "# Done. Now, let's look at the following. We look at two nodes that both rate each other \n",
    "# where the rating given is larger than 1.64 times the standard deviation of the rating given \n",
    "# overall. \n",
    "\n",
    "query = \"\"\"\n",
    "MATCH (p1)-[r12:TRUSTS]->(p2)-[r21:TRUSTS]->(p1)\n",
    "WHERE p1.id < p2.id\n",
    "AND p1.mean_rating < 0 AND p2.mean_rating < 0 \n",
    "AND r12.rating > p2.mean_rating + 1.64 * p2.stddev_rating\n",
    "AND r21.rating > p1.mean_rating + 1.64 * p1.stddev_rating\n",
    "RETURN p1.id AS p1, p1.mean_rating AS p1_meanRating, r21.rating AS p2_to_p1_rating, \n",
    "       p2.id AS p2, p2.mean_rating AS p2_meanRating, r12.rating AS p1_to_p2_rating\n",
    "\"\"\"\n",
    "\n",
    "results = session.run(query).data()\n",
    "pd.DataFrame(results)"
   ]
  },
  {
   "cell_type": "code",
   "execution_count": 54,
   "metadata": {},
   "outputs": [
    {
     "data": {
      "text/html": [
       "<div>\n",
       "<style scoped>\n",
       "    .dataframe tbody tr th:only-of-type {\n",
       "        vertical-align: middle;\n",
       "    }\n",
       "\n",
       "    .dataframe tbody tr th {\n",
       "        vertical-align: top;\n",
       "    }\n",
       "\n",
       "    .dataframe thead th {\n",
       "        text-align: right;\n",
       "    }\n",
       "</style>\n",
       "<table border=\"1\" class=\"dataframe\">\n",
       "  <thead>\n",
       "    <tr style=\"text-align: right;\">\n",
       "      <th></th>\n",
       "      <th>p1</th>\n",
       "      <th>p1_meanRating</th>\n",
       "      <th>p2_to_p1_rating</th>\n",
       "      <th>p2</th>\n",
       "      <th>p2_meanRating</th>\n",
       "      <th>p1_to_p2_rating</th>\n",
       "    </tr>\n",
       "  </thead>\n",
       "  <tbody>\n",
       "    <tr>\n",
       "      <th>0</th>\n",
       "      <td>1</td>\n",
       "      <td>3.544248</td>\n",
       "      <td>10</td>\n",
       "      <td>4</td>\n",
       "      <td>3.111111</td>\n",
       "      <td>10</td>\n",
       "    </tr>\n",
       "    <tr>\n",
       "      <th>1</th>\n",
       "      <td>1</td>\n",
       "      <td>3.544248</td>\n",
       "      <td>10</td>\n",
       "      <td>353</td>\n",
       "      <td>1.647059</td>\n",
       "      <td>5</td>\n",
       "    </tr>\n",
       "    <tr>\n",
       "      <th>2</th>\n",
       "      <td>2</td>\n",
       "      <td>3.000000</td>\n",
       "      <td>8</td>\n",
       "      <td>198</td>\n",
       "      <td>1.540000</td>\n",
       "      <td>5</td>\n",
       "    </tr>\n",
       "    <tr>\n",
       "      <th>3</th>\n",
       "      <td>4</td>\n",
       "      <td>3.111111</td>\n",
       "      <td>10</td>\n",
       "      <td>1</td>\n",
       "      <td>3.544248</td>\n",
       "      <td>10</td>\n",
       "    </tr>\n",
       "    <tr>\n",
       "      <th>4</th>\n",
       "      <td>4</td>\n",
       "      <td>3.111111</td>\n",
       "      <td>8</td>\n",
       "      <td>13</td>\n",
       "      <td>1.785340</td>\n",
       "      <td>8</td>\n",
       "    </tr>\n",
       "    <tr>\n",
       "      <th>...</th>\n",
       "      <td>...</td>\n",
       "      <td>...</td>\n",
       "      <td>...</td>\n",
       "      <td>...</td>\n",
       "      <td>...</td>\n",
       "      <td>...</td>\n",
       "    </tr>\n",
       "    <tr>\n",
       "      <th>221</th>\n",
       "      <td>5403</td>\n",
       "      <td>1.541667</td>\n",
       "      <td>4</td>\n",
       "      <td>4611</td>\n",
       "      <td>1.861111</td>\n",
       "      <td>8</td>\n",
       "    </tr>\n",
       "    <tr>\n",
       "      <th>222</th>\n",
       "      <td>5411</td>\n",
       "      <td>3.000000</td>\n",
       "      <td>10</td>\n",
       "      <td>4649</td>\n",
       "      <td>2.028986</td>\n",
       "      <td>10</td>\n",
       "    </tr>\n",
       "    <tr>\n",
       "      <th>223</th>\n",
       "      <td>5449</td>\n",
       "      <td>1.900000</td>\n",
       "      <td>5</td>\n",
       "      <td>3804</td>\n",
       "      <td>1.972222</td>\n",
       "      <td>5</td>\n",
       "    </tr>\n",
       "    <tr>\n",
       "      <th>224</th>\n",
       "      <td>5591</td>\n",
       "      <td>1.812500</td>\n",
       "      <td>7</td>\n",
       "      <td>2397</td>\n",
       "      <td>1.837209</td>\n",
       "      <td>7</td>\n",
       "    </tr>\n",
       "    <tr>\n",
       "      <th>225</th>\n",
       "      <td>5983</td>\n",
       "      <td>2.500000</td>\n",
       "      <td>7</td>\n",
       "      <td>3598</td>\n",
       "      <td>1.770270</td>\n",
       "      <td>7</td>\n",
       "    </tr>\n",
       "  </tbody>\n",
       "</table>\n",
       "<p>226 rows × 6 columns</p>\n",
       "</div>"
      ],
      "text/plain": [
       "       p1  p1_meanRating  p2_to_p1_rating    p2  p2_meanRating  \\\n",
       "0       1       3.544248               10     4       3.111111   \n",
       "1       1       3.544248               10   353       1.647059   \n",
       "2       2       3.000000                8   198       1.540000   \n",
       "3       4       3.111111               10     1       3.544248   \n",
       "4       4       3.111111                8    13       1.785340   \n",
       "..    ...            ...              ...   ...            ...   \n",
       "221  5403       1.541667                4  4611       1.861111   \n",
       "222  5411       3.000000               10  4649       2.028986   \n",
       "223  5449       1.900000                5  3804       1.972222   \n",
       "224  5591       1.812500                7  2397       1.837209   \n",
       "225  5983       2.500000                7  3598       1.770270   \n",
       "\n",
       "     p1_to_p2_rating  \n",
       "0                 10  \n",
       "1                  5  \n",
       "2                  5  \n",
       "3                 10  \n",
       "4                  8  \n",
       "..               ...  \n",
       "221                8  \n",
       "222               10  \n",
       "223                5  \n",
       "224                7  \n",
       "225                7  \n",
       "\n",
       "[226 rows x 6 columns]"
      ]
     },
     "execution_count": 54,
     "metadata": {},
     "output_type": "execute_result"
    }
   ],
   "source": [
    "# Let's check with 1.96 instead\n",
    "\n",
    "query = \"\"\"\n",
    "MATCH (p1)-[r12:TRUSTS]->(p2)-[r21:TRUSTS]->(p1)\n",
    "WHERE r12.rating > p2.mean_rating + 1.96 * p2.stddev_rating\n",
    "AND r21.rating > p1.mean_rating + 1.96 * p1.stddev_rating\n",
    "RETURN p1.id AS p1, p1.mean_rating AS p1_meanRating, r21.rating AS p2_to_p1_rating, \n",
    "       p2.id AS p2, p2.mean_rating AS p2_meanRating, r12.rating AS p1_to_p2_rating\n",
    "\"\"\"\n",
    "\n",
    "results = session.run(query).data()\n",
    "pd.DataFrame(results)"
   ]
  },
  {
   "cell_type": "code",
   "execution_count": 55,
   "metadata": {},
   "outputs": [],
   "source": [
    "# Let's do it with 2.56\n",
    "\n",
    "query = \"\"\"\n",
    "MATCH (p1)-[r12:TRUSTS]->(p2)-[r21:TRUSTS]->(p1)\n",
    "// WHERE p2.mean_rating < 0 AND p1.mean_rating < 0\n",
    "WHERE r12.rating > p2.mean_rating + 2.56 * p2.stddev_rating\n",
    "AND r21.rating > p1.mean_rating + 2.56 * p1.stddev_rating\n",
    "RETURN p1.id AS p1, p1.mean_rating AS p1_meanRating, r21.rating AS p2_to_p1_rating, \n",
    "       p2.id AS p2, p2.mean_rating AS p2_meanRating, r12.rating AS p1_to_p2_rating\n",
    "\"\"\"\n",
    "\n",
    "results = session.run(query).data()"
   ]
  },
  {
   "cell_type": "code",
   "execution_count": 56,
   "metadata": {},
   "outputs": [
    {
     "data": {
      "text/html": [
       "<div>\n",
       "<style scoped>\n",
       "    .dataframe tbody tr th:only-of-type {\n",
       "        vertical-align: middle;\n",
       "    }\n",
       "\n",
       "    .dataframe tbody tr th {\n",
       "        vertical-align: top;\n",
       "    }\n",
       "\n",
       "    .dataframe thead th {\n",
       "        text-align: right;\n",
       "    }\n",
       "</style>\n",
       "<table border=\"1\" class=\"dataframe\">\n",
       "  <thead>\n",
       "    <tr style=\"text-align: right;\">\n",
       "      <th></th>\n",
       "      <th>p1</th>\n",
       "      <th>p1_meanRating</th>\n",
       "      <th>p2_to_p1_rating</th>\n",
       "      <th>p2</th>\n",
       "      <th>p2_meanRating</th>\n",
       "      <th>p1_to_p2_rating</th>\n",
       "    </tr>\n",
       "  </thead>\n",
       "  <tbody>\n",
       "    <tr>\n",
       "      <th>0</th>\n",
       "      <td>7</td>\n",
       "      <td>2.842593</td>\n",
       "      <td>10</td>\n",
       "      <td>132</td>\n",
       "      <td>1.687500</td>\n",
       "      <td>5</td>\n",
       "    </tr>\n",
       "    <tr>\n",
       "      <th>1</th>\n",
       "      <td>13</td>\n",
       "      <td>1.785340</td>\n",
       "      <td>6</td>\n",
       "      <td>353</td>\n",
       "      <td>1.647059</td>\n",
       "      <td>6</td>\n",
       "    </tr>\n",
       "    <tr>\n",
       "      <th>2</th>\n",
       "      <td>64</td>\n",
       "      <td>1.768116</td>\n",
       "      <td>10</td>\n",
       "      <td>1094</td>\n",
       "      <td>1.620690</td>\n",
       "      <td>10</td>\n",
       "    </tr>\n",
       "    <tr>\n",
       "      <th>3</th>\n",
       "      <td>113</td>\n",
       "      <td>1.750000</td>\n",
       "      <td>7</td>\n",
       "      <td>468</td>\n",
       "      <td>1.983051</td>\n",
       "      <td>7</td>\n",
       "    </tr>\n",
       "    <tr>\n",
       "      <th>4</th>\n",
       "      <td>132</td>\n",
       "      <td>1.687500</td>\n",
       "      <td>5</td>\n",
       "      <td>7</td>\n",
       "      <td>2.842593</td>\n",
       "      <td>10</td>\n",
       "    </tr>\n",
       "    <tr>\n",
       "      <th>...</th>\n",
       "      <td>...</td>\n",
       "      <td>...</td>\n",
       "      <td>...</td>\n",
       "      <td>...</td>\n",
       "      <td>...</td>\n",
       "      <td>...</td>\n",
       "    </tr>\n",
       "    <tr>\n",
       "      <th>65</th>\n",
       "      <td>4611</td>\n",
       "      <td>1.861111</td>\n",
       "      <td>9</td>\n",
       "      <td>4833</td>\n",
       "      <td>1.962963</td>\n",
       "      <td>9</td>\n",
       "    </tr>\n",
       "    <tr>\n",
       "      <th>66</th>\n",
       "      <td>4833</td>\n",
       "      <td>1.962963</td>\n",
       "      <td>9</td>\n",
       "      <td>4611</td>\n",
       "      <td>1.861111</td>\n",
       "      <td>9</td>\n",
       "    </tr>\n",
       "    <tr>\n",
       "      <th>67</th>\n",
       "      <td>4852</td>\n",
       "      <td>1.900000</td>\n",
       "      <td>7</td>\n",
       "      <td>353</td>\n",
       "      <td>1.647059</td>\n",
       "      <td>7</td>\n",
       "    </tr>\n",
       "    <tr>\n",
       "      <th>68</th>\n",
       "      <td>4884</td>\n",
       "      <td>1.882353</td>\n",
       "      <td>8</td>\n",
       "      <td>4320</td>\n",
       "      <td>1.645161</td>\n",
       "      <td>6</td>\n",
       "    </tr>\n",
       "    <tr>\n",
       "      <th>69</th>\n",
       "      <td>5591</td>\n",
       "      <td>1.812500</td>\n",
       "      <td>7</td>\n",
       "      <td>2397</td>\n",
       "      <td>1.837209</td>\n",
       "      <td>7</td>\n",
       "    </tr>\n",
       "  </tbody>\n",
       "</table>\n",
       "<p>70 rows × 6 columns</p>\n",
       "</div>"
      ],
      "text/plain": [
       "      p1  p1_meanRating  p2_to_p1_rating    p2  p2_meanRating  p1_to_p2_rating\n",
       "0      7       2.842593               10   132       1.687500                5\n",
       "1     13       1.785340                6   353       1.647059                6\n",
       "2     64       1.768116               10  1094       1.620690               10\n",
       "3    113       1.750000                7   468       1.983051                7\n",
       "4    132       1.687500                5     7       2.842593               10\n",
       "..   ...            ...              ...   ...            ...              ...\n",
       "65  4611       1.861111                9  4833       1.962963                9\n",
       "66  4833       1.962963                9  4611       1.861111                9\n",
       "67  4852       1.900000                7   353       1.647059                7\n",
       "68  4884       1.882353                8  4320       1.645161                6\n",
       "69  5591       1.812500                7  2397       1.837209                7\n",
       "\n",
       "[70 rows x 6 columns]"
      ]
     },
     "execution_count": 56,
     "metadata": {},
     "output_type": "execute_result"
    }
   ],
   "source": [
    "pd.DataFrame(results)"
   ]
  },
  {
   "cell_type": "markdown",
   "metadata": {},
   "source": [
    "# What about non-direct relationships but 'three hops away' or triadic relationships? "
   ]
  },
  {
   "cell_type": "code",
   "execution_count": 57,
   "metadata": {},
   "outputs": [],
   "source": [
    "# Just put properties\n",
    "\n",
    "query = \"\"\"\n",
    "MATCH (p1)-[r12:TRUSTS]->(p2)-[r23:TRUSTS]->(p3)-[r31:TRUSTS]->(p1)\n",
    "WHERE p1.id <> p2.id AND p1.id <> p3.id\n",
    "AND p1.mean_rating < 0 AND p2.mean_rating < 0 AND p3.mean_rating < 0\n",
    "AND r12.rating > p2.mean_rating + 1.96 * p2.stddev_rating\n",
    "AND r23.rating > p3.mean_rating + 1.96 * p3.stddev_rating\n",
    "AND r31.rating > p1.mean_rating + 1.96 * p1.stddev_rating\n",
    "RETURN p1.id AS p1, p1.mean_rating AS p1_meanRating, r31.rating AS p3_to_p1_rating, \n",
    "       p2.id AS p2, p2.mean_rating AS p2_meanRating, r12.rating AS p1_to_p2_rating,\n",
    "       p3.id AS p3, p3.mean_rating AS p3_meanRating, r23.rating AS p_2_to_3_rating\n",
    "\"\"\"\n",
    "\n",
    "results = session.run(query).data()"
   ]
  },
  {
   "cell_type": "code",
   "execution_count": 58,
   "metadata": {},
   "outputs": [
    {
     "data": {
      "text/html": [
       "<div>\n",
       "<style scoped>\n",
       "    .dataframe tbody tr th:only-of-type {\n",
       "        vertical-align: middle;\n",
       "    }\n",
       "\n",
       "    .dataframe tbody tr th {\n",
       "        vertical-align: top;\n",
       "    }\n",
       "\n",
       "    .dataframe thead th {\n",
       "        text-align: right;\n",
       "    }\n",
       "</style>\n",
       "<table border=\"1\" class=\"dataframe\">\n",
       "  <thead>\n",
       "    <tr style=\"text-align: right;\">\n",
       "      <th></th>\n",
       "      <th>p1</th>\n",
       "      <th>p1_meanRating</th>\n",
       "      <th>p3_to_p1_rating</th>\n",
       "      <th>p2</th>\n",
       "      <th>p2_meanRating</th>\n",
       "      <th>p1_to_p2_rating</th>\n",
       "      <th>p3</th>\n",
       "      <th>p3_meanRating</th>\n",
       "      <th>p_2_to_3_rating</th>\n",
       "    </tr>\n",
       "  </thead>\n",
       "  <tbody>\n",
       "    <tr>\n",
       "      <th>0</th>\n",
       "      <td>3756</td>\n",
       "      <td>-6.190476</td>\n",
       "      <td>10</td>\n",
       "      <td>3744</td>\n",
       "      <td>-8.333333</td>\n",
       "      <td>10</td>\n",
       "      <td>3757</td>\n",
       "      <td>-6.190476</td>\n",
       "      <td>10</td>\n",
       "    </tr>\n",
       "    <tr>\n",
       "      <th>1</th>\n",
       "      <td>3756</td>\n",
       "      <td>-6.190476</td>\n",
       "      <td>10</td>\n",
       "      <td>3744</td>\n",
       "      <td>-8.333333</td>\n",
       "      <td>10</td>\n",
       "      <td>3759</td>\n",
       "      <td>-7.500000</td>\n",
       "      <td>10</td>\n",
       "    </tr>\n",
       "    <tr>\n",
       "      <th>2</th>\n",
       "      <td>3759</td>\n",
       "      <td>-7.500000</td>\n",
       "      <td>10</td>\n",
       "      <td>3744</td>\n",
       "      <td>-8.333333</td>\n",
       "      <td>10</td>\n",
       "      <td>3760</td>\n",
       "      <td>-8.823529</td>\n",
       "      <td>10</td>\n",
       "    </tr>\n",
       "    <tr>\n",
       "      <th>3</th>\n",
       "      <td>3756</td>\n",
       "      <td>-6.190476</td>\n",
       "      <td>10</td>\n",
       "      <td>3744</td>\n",
       "      <td>-8.333333</td>\n",
       "      <td>10</td>\n",
       "      <td>3760</td>\n",
       "      <td>-8.823529</td>\n",
       "      <td>10</td>\n",
       "    </tr>\n",
       "    <tr>\n",
       "      <th>4</th>\n",
       "      <td>3757</td>\n",
       "      <td>-6.190476</td>\n",
       "      <td>10</td>\n",
       "      <td>3756</td>\n",
       "      <td>-6.190476</td>\n",
       "      <td>10</td>\n",
       "      <td>3744</td>\n",
       "      <td>-8.333333</td>\n",
       "      <td>10</td>\n",
       "    </tr>\n",
       "    <tr>\n",
       "      <th>5</th>\n",
       "      <td>3759</td>\n",
       "      <td>-7.500000</td>\n",
       "      <td>10</td>\n",
       "      <td>3756</td>\n",
       "      <td>-6.190476</td>\n",
       "      <td>10</td>\n",
       "      <td>3744</td>\n",
       "      <td>-8.333333</td>\n",
       "      <td>10</td>\n",
       "    </tr>\n",
       "    <tr>\n",
       "      <th>6</th>\n",
       "      <td>3760</td>\n",
       "      <td>-8.823529</td>\n",
       "      <td>10</td>\n",
       "      <td>3756</td>\n",
       "      <td>-6.190476</td>\n",
       "      <td>10</td>\n",
       "      <td>3744</td>\n",
       "      <td>-8.333333</td>\n",
       "      <td>10</td>\n",
       "    </tr>\n",
       "    <tr>\n",
       "      <th>7</th>\n",
       "      <td>3744</td>\n",
       "      <td>-8.333333</td>\n",
       "      <td>10</td>\n",
       "      <td>3757</td>\n",
       "      <td>-6.190476</td>\n",
       "      <td>10</td>\n",
       "      <td>3756</td>\n",
       "      <td>-6.190476</td>\n",
       "      <td>10</td>\n",
       "    </tr>\n",
       "    <tr>\n",
       "      <th>8</th>\n",
       "      <td>3744</td>\n",
       "      <td>-8.333333</td>\n",
       "      <td>10</td>\n",
       "      <td>3759</td>\n",
       "      <td>-7.500000</td>\n",
       "      <td>10</td>\n",
       "      <td>3756</td>\n",
       "      <td>-6.190476</td>\n",
       "      <td>10</td>\n",
       "    </tr>\n",
       "    <tr>\n",
       "      <th>9</th>\n",
       "      <td>3760</td>\n",
       "      <td>-8.823529</td>\n",
       "      <td>10</td>\n",
       "      <td>3759</td>\n",
       "      <td>-7.500000</td>\n",
       "      <td>10</td>\n",
       "      <td>3744</td>\n",
       "      <td>-8.333333</td>\n",
       "      <td>10</td>\n",
       "    </tr>\n",
       "    <tr>\n",
       "      <th>10</th>\n",
       "      <td>3744</td>\n",
       "      <td>-8.333333</td>\n",
       "      <td>10</td>\n",
       "      <td>3760</td>\n",
       "      <td>-8.823529</td>\n",
       "      <td>10</td>\n",
       "      <td>3759</td>\n",
       "      <td>-7.500000</td>\n",
       "      <td>10</td>\n",
       "    </tr>\n",
       "    <tr>\n",
       "      <th>11</th>\n",
       "      <td>3744</td>\n",
       "      <td>-8.333333</td>\n",
       "      <td>10</td>\n",
       "      <td>3760</td>\n",
       "      <td>-8.823529</td>\n",
       "      <td>10</td>\n",
       "      <td>3756</td>\n",
       "      <td>-6.190476</td>\n",
       "      <td>10</td>\n",
       "    </tr>\n",
       "    <tr>\n",
       "      <th>12</th>\n",
       "      <td>4680</td>\n",
       "      <td>-7.904762</td>\n",
       "      <td>1</td>\n",
       "      <td>4679</td>\n",
       "      <td>-7.904762</td>\n",
       "      <td>1</td>\n",
       "      <td>4681</td>\n",
       "      <td>-8.000000</td>\n",
       "      <td>1</td>\n",
       "    </tr>\n",
       "    <tr>\n",
       "      <th>13</th>\n",
       "      <td>4681</td>\n",
       "      <td>-8.000000</td>\n",
       "      <td>1</td>\n",
       "      <td>4679</td>\n",
       "      <td>-7.904762</td>\n",
       "      <td>1</td>\n",
       "      <td>4680</td>\n",
       "      <td>-7.904762</td>\n",
       "      <td>1</td>\n",
       "    </tr>\n",
       "    <tr>\n",
       "      <th>14</th>\n",
       "      <td>4679</td>\n",
       "      <td>-7.904762</td>\n",
       "      <td>1</td>\n",
       "      <td>4680</td>\n",
       "      <td>-7.904762</td>\n",
       "      <td>1</td>\n",
       "      <td>4681</td>\n",
       "      <td>-8.000000</td>\n",
       "      <td>1</td>\n",
       "    </tr>\n",
       "    <tr>\n",
       "      <th>15</th>\n",
       "      <td>4681</td>\n",
       "      <td>-8.000000</td>\n",
       "      <td>1</td>\n",
       "      <td>4680</td>\n",
       "      <td>-7.904762</td>\n",
       "      <td>1</td>\n",
       "      <td>4679</td>\n",
       "      <td>-7.904762</td>\n",
       "      <td>1</td>\n",
       "    </tr>\n",
       "    <tr>\n",
       "      <th>16</th>\n",
       "      <td>4680</td>\n",
       "      <td>-7.904762</td>\n",
       "      <td>1</td>\n",
       "      <td>4681</td>\n",
       "      <td>-8.000000</td>\n",
       "      <td>1</td>\n",
       "      <td>4679</td>\n",
       "      <td>-7.904762</td>\n",
       "      <td>1</td>\n",
       "    </tr>\n",
       "    <tr>\n",
       "      <th>17</th>\n",
       "      <td>4679</td>\n",
       "      <td>-7.904762</td>\n",
       "      <td>1</td>\n",
       "      <td>4681</td>\n",
       "      <td>-8.000000</td>\n",
       "      <td>1</td>\n",
       "      <td>4680</td>\n",
       "      <td>-7.904762</td>\n",
       "      <td>1</td>\n",
       "    </tr>\n",
       "  </tbody>\n",
       "</table>\n",
       "</div>"
      ],
      "text/plain": [
       "      p1  p1_meanRating  p3_to_p1_rating    p2  p2_meanRating  \\\n",
       "0   3756      -6.190476               10  3744      -8.333333   \n",
       "1   3756      -6.190476               10  3744      -8.333333   \n",
       "2   3759      -7.500000               10  3744      -8.333333   \n",
       "3   3756      -6.190476               10  3744      -8.333333   \n",
       "4   3757      -6.190476               10  3756      -6.190476   \n",
       "5   3759      -7.500000               10  3756      -6.190476   \n",
       "6   3760      -8.823529               10  3756      -6.190476   \n",
       "7   3744      -8.333333               10  3757      -6.190476   \n",
       "8   3744      -8.333333               10  3759      -7.500000   \n",
       "9   3760      -8.823529               10  3759      -7.500000   \n",
       "10  3744      -8.333333               10  3760      -8.823529   \n",
       "11  3744      -8.333333               10  3760      -8.823529   \n",
       "12  4680      -7.904762                1  4679      -7.904762   \n",
       "13  4681      -8.000000                1  4679      -7.904762   \n",
       "14  4679      -7.904762                1  4680      -7.904762   \n",
       "15  4681      -8.000000                1  4680      -7.904762   \n",
       "16  4680      -7.904762                1  4681      -8.000000   \n",
       "17  4679      -7.904762                1  4681      -8.000000   \n",
       "\n",
       "    p1_to_p2_rating    p3  p3_meanRating  p_2_to_3_rating  \n",
       "0                10  3757      -6.190476               10  \n",
       "1                10  3759      -7.500000               10  \n",
       "2                10  3760      -8.823529               10  \n",
       "3                10  3760      -8.823529               10  \n",
       "4                10  3744      -8.333333               10  \n",
       "5                10  3744      -8.333333               10  \n",
       "6                10  3744      -8.333333               10  \n",
       "7                10  3756      -6.190476               10  \n",
       "8                10  3756      -6.190476               10  \n",
       "9                10  3744      -8.333333               10  \n",
       "10               10  3759      -7.500000               10  \n",
       "11               10  3756      -6.190476               10  \n",
       "12                1  4681      -8.000000                1  \n",
       "13                1  4680      -7.904762                1  \n",
       "14                1  4681      -8.000000                1  \n",
       "15                1  4679      -7.904762                1  \n",
       "16                1  4679      -7.904762                1  \n",
       "17                1  4680      -7.904762                1  "
      ]
     },
     "execution_count": 58,
     "metadata": {},
     "output_type": "execute_result"
    }
   ],
   "source": [
    "pd.DataFrame(results)"
   ]
  },
  {
   "cell_type": "markdown",
   "metadata": {},
   "source": [
    "# What about four hops away? Layering it further"
   ]
  },
  {
   "cell_type": "code",
   "execution_count": 59,
   "metadata": {},
   "outputs": [
    {
     "data": {
      "text/html": [
       "<div>\n",
       "<style scoped>\n",
       "    .dataframe tbody tr th:only-of-type {\n",
       "        vertical-align: middle;\n",
       "    }\n",
       "\n",
       "    .dataframe tbody tr th {\n",
       "        vertical-align: top;\n",
       "    }\n",
       "\n",
       "    .dataframe thead th {\n",
       "        text-align: right;\n",
       "    }\n",
       "</style>\n",
       "<table border=\"1\" class=\"dataframe\">\n",
       "  <thead>\n",
       "    <tr style=\"text-align: right;\">\n",
       "      <th></th>\n",
       "      <th>p1</th>\n",
       "      <th>p1_meanRating</th>\n",
       "      <th>p4_to_p1_rating</th>\n",
       "      <th>p2</th>\n",
       "      <th>p2_meanRating</th>\n",
       "      <th>p1_to_p2_rating</th>\n",
       "      <th>p3</th>\n",
       "      <th>p3_meanRating</th>\n",
       "      <th>p2_to_p3_rating</th>\n",
       "      <th>p4</th>\n",
       "      <th>p4_meanRating</th>\n",
       "      <th>p3_to_p4_rating</th>\n",
       "    </tr>\n",
       "  </thead>\n",
       "  <tbody>\n",
       "    <tr>\n",
       "      <th>0</th>\n",
       "      <td>3760</td>\n",
       "      <td>-8.823529</td>\n",
       "      <td>10</td>\n",
       "      <td>3759</td>\n",
       "      <td>-7.500000</td>\n",
       "      <td>10</td>\n",
       "      <td>3756</td>\n",
       "      <td>-6.190476</td>\n",
       "      <td>10</td>\n",
       "      <td>3744</td>\n",
       "      <td>-8.333333</td>\n",
       "      <td>10</td>\n",
       "    </tr>\n",
       "    <tr>\n",
       "      <th>1</th>\n",
       "      <td>3759</td>\n",
       "      <td>-7.500000</td>\n",
       "      <td>10</td>\n",
       "      <td>3757</td>\n",
       "      <td>-6.190476</td>\n",
       "      <td>10</td>\n",
       "      <td>3756</td>\n",
       "      <td>-6.190476</td>\n",
       "      <td>10</td>\n",
       "      <td>3744</td>\n",
       "      <td>-8.333333</td>\n",
       "      <td>10</td>\n",
       "    </tr>\n",
       "    <tr>\n",
       "      <th>2</th>\n",
       "      <td>3760</td>\n",
       "      <td>-8.823529</td>\n",
       "      <td>10</td>\n",
       "      <td>3757</td>\n",
       "      <td>-6.190476</td>\n",
       "      <td>10</td>\n",
       "      <td>3756</td>\n",
       "      <td>-6.190476</td>\n",
       "      <td>10</td>\n",
       "      <td>3744</td>\n",
       "      <td>-8.333333</td>\n",
       "      <td>10</td>\n",
       "    </tr>\n",
       "    <tr>\n",
       "      <th>3</th>\n",
       "      <td>3744</td>\n",
       "      <td>-8.333333</td>\n",
       "      <td>10</td>\n",
       "      <td>3760</td>\n",
       "      <td>-8.823529</td>\n",
       "      <td>10</td>\n",
       "      <td>3759</td>\n",
       "      <td>-7.500000</td>\n",
       "      <td>10</td>\n",
       "      <td>3756</td>\n",
       "      <td>-6.190476</td>\n",
       "      <td>10</td>\n",
       "    </tr>\n",
       "    <tr>\n",
       "      <th>4</th>\n",
       "      <td>3744</td>\n",
       "      <td>-8.333333</td>\n",
       "      <td>10</td>\n",
       "      <td>3760</td>\n",
       "      <td>-8.823529</td>\n",
       "      <td>10</td>\n",
       "      <td>3757</td>\n",
       "      <td>-6.190476</td>\n",
       "      <td>10</td>\n",
       "      <td>3756</td>\n",
       "      <td>-6.190476</td>\n",
       "      <td>10</td>\n",
       "    </tr>\n",
       "    <tr>\n",
       "      <th>5</th>\n",
       "      <td>3744</td>\n",
       "      <td>-8.333333</td>\n",
       "      <td>10</td>\n",
       "      <td>3759</td>\n",
       "      <td>-7.500000</td>\n",
       "      <td>10</td>\n",
       "      <td>3757</td>\n",
       "      <td>-6.190476</td>\n",
       "      <td>10</td>\n",
       "      <td>3756</td>\n",
       "      <td>-6.190476</td>\n",
       "      <td>10</td>\n",
       "    </tr>\n",
       "    <tr>\n",
       "      <th>6</th>\n",
       "      <td>3756</td>\n",
       "      <td>-6.190476</td>\n",
       "      <td>10</td>\n",
       "      <td>3744</td>\n",
       "      <td>-8.333333</td>\n",
       "      <td>10</td>\n",
       "      <td>3760</td>\n",
       "      <td>-8.823529</td>\n",
       "      <td>10</td>\n",
       "      <td>3757</td>\n",
       "      <td>-6.190476</td>\n",
       "      <td>10</td>\n",
       "    </tr>\n",
       "    <tr>\n",
       "      <th>7</th>\n",
       "      <td>3756</td>\n",
       "      <td>-6.190476</td>\n",
       "      <td>10</td>\n",
       "      <td>3744</td>\n",
       "      <td>-8.333333</td>\n",
       "      <td>10</td>\n",
       "      <td>3759</td>\n",
       "      <td>-7.500000</td>\n",
       "      <td>10</td>\n",
       "      <td>3757</td>\n",
       "      <td>-6.190476</td>\n",
       "      <td>10</td>\n",
       "    </tr>\n",
       "    <tr>\n",
       "      <th>8</th>\n",
       "      <td>3756</td>\n",
       "      <td>-6.190476</td>\n",
       "      <td>10</td>\n",
       "      <td>3744</td>\n",
       "      <td>-8.333333</td>\n",
       "      <td>10</td>\n",
       "      <td>3760</td>\n",
       "      <td>-8.823529</td>\n",
       "      <td>10</td>\n",
       "      <td>3759</td>\n",
       "      <td>-7.500000</td>\n",
       "      <td>10</td>\n",
       "    </tr>\n",
       "    <tr>\n",
       "      <th>9</th>\n",
       "      <td>3757</td>\n",
       "      <td>-6.190476</td>\n",
       "      <td>10</td>\n",
       "      <td>3756</td>\n",
       "      <td>-6.190476</td>\n",
       "      <td>10</td>\n",
       "      <td>3744</td>\n",
       "      <td>-8.333333</td>\n",
       "      <td>10</td>\n",
       "      <td>3759</td>\n",
       "      <td>-7.500000</td>\n",
       "      <td>10</td>\n",
       "    </tr>\n",
       "    <tr>\n",
       "      <th>10</th>\n",
       "      <td>3759</td>\n",
       "      <td>-7.500000</td>\n",
       "      <td>10</td>\n",
       "      <td>3756</td>\n",
       "      <td>-6.190476</td>\n",
       "      <td>10</td>\n",
       "      <td>3744</td>\n",
       "      <td>-8.333333</td>\n",
       "      <td>10</td>\n",
       "      <td>3760</td>\n",
       "      <td>-8.823529</td>\n",
       "      <td>10</td>\n",
       "    </tr>\n",
       "    <tr>\n",
       "      <th>11</th>\n",
       "      <td>3757</td>\n",
       "      <td>-6.190476</td>\n",
       "      <td>10</td>\n",
       "      <td>3756</td>\n",
       "      <td>-6.190476</td>\n",
       "      <td>10</td>\n",
       "      <td>3744</td>\n",
       "      <td>-8.333333</td>\n",
       "      <td>10</td>\n",
       "      <td>3760</td>\n",
       "      <td>-8.823529</td>\n",
       "      <td>10</td>\n",
       "    </tr>\n",
       "  </tbody>\n",
       "</table>\n",
       "</div>"
      ],
      "text/plain": [
       "      p1  p1_meanRating  p4_to_p1_rating    p2  p2_meanRating  \\\n",
       "0   3760      -8.823529               10  3759      -7.500000   \n",
       "1   3759      -7.500000               10  3757      -6.190476   \n",
       "2   3760      -8.823529               10  3757      -6.190476   \n",
       "3   3744      -8.333333               10  3760      -8.823529   \n",
       "4   3744      -8.333333               10  3760      -8.823529   \n",
       "5   3744      -8.333333               10  3759      -7.500000   \n",
       "6   3756      -6.190476               10  3744      -8.333333   \n",
       "7   3756      -6.190476               10  3744      -8.333333   \n",
       "8   3756      -6.190476               10  3744      -8.333333   \n",
       "9   3757      -6.190476               10  3756      -6.190476   \n",
       "10  3759      -7.500000               10  3756      -6.190476   \n",
       "11  3757      -6.190476               10  3756      -6.190476   \n",
       "\n",
       "    p1_to_p2_rating    p3  p3_meanRating  p2_to_p3_rating    p4  \\\n",
       "0                10  3756      -6.190476               10  3744   \n",
       "1                10  3756      -6.190476               10  3744   \n",
       "2                10  3756      -6.190476               10  3744   \n",
       "3                10  3759      -7.500000               10  3756   \n",
       "4                10  3757      -6.190476               10  3756   \n",
       "5                10  3757      -6.190476               10  3756   \n",
       "6                10  3760      -8.823529               10  3757   \n",
       "7                10  3759      -7.500000               10  3757   \n",
       "8                10  3760      -8.823529               10  3759   \n",
       "9                10  3744      -8.333333               10  3759   \n",
       "10               10  3744      -8.333333               10  3760   \n",
       "11               10  3744      -8.333333               10  3760   \n",
       "\n",
       "    p4_meanRating  p3_to_p4_rating  \n",
       "0       -8.333333               10  \n",
       "1       -8.333333               10  \n",
       "2       -8.333333               10  \n",
       "3       -6.190476               10  \n",
       "4       -6.190476               10  \n",
       "5       -6.190476               10  \n",
       "6       -6.190476               10  \n",
       "7       -6.190476               10  \n",
       "8       -7.500000               10  \n",
       "9       -7.500000               10  \n",
       "10      -8.823529               10  \n",
       "11      -8.823529               10  "
      ]
     },
     "execution_count": 59,
     "metadata": {},
     "output_type": "execute_result"
    }
   ],
   "source": [
    "query = \"\"\"\n",
    "MATCH (p1)-[r12:TRUSTS]->(p2)-[r23:TRUSTS]->(p3)-[r34:TRUSTS]->(p4)-[r41:TRUSTS]->(p1)\n",
    "WHERE p1.id <> p2.id AND p1.id <> p3.id AND p1.id <> p4.id\n",
    "AND p2.id <> p4.id AND p2.id <> p3.id AND p2.id <> p4.id\n",
    "AND p3.id <> p4.id\n",
    "\n",
    "AND p1.mean_rating < 0 AND p2.mean_rating < 0 AND p3.mean_rating < 0 AND p4.mean_rating < 0\n",
    "AND r12.rating > p2.mean_rating + 1.96 * p2.stddev_rating\n",
    "AND r23.rating > p3.mean_rating + 1.96 * p3.stddev_rating\n",
    "AND r34.rating > p4.mean_rating + 1.96 * p4.stddev_rating\n",
    "AND r41.rating > p1.mean_rating + 1.96 * p1.stddev_rating\n",
    "RETURN p1.id AS p1, p1.mean_rating AS p1_meanRating, r41.rating AS p4_to_p1_rating, \n",
    "       p2.id AS p2, p2.mean_rating AS p2_meanRating, r12.rating AS p1_to_p2_rating,\n",
    "       p3.id AS p3, p3.mean_rating AS p3_meanRating, r23.rating AS p2_to_p3_rating,\n",
    "       p4.id AS p4, p4.mean_rating AS p4_meanRating, r34.rating AS p3_to_p4_rating\n",
    "\"\"\"\n",
    "\n",
    "results = session.run(query).data()\n",
    "pd.DataFrame(results)"
   ]
  },
  {
   "cell_type": "code",
   "execution_count": 60,
   "metadata": {},
   "outputs": [
    {
     "data": {
      "text/html": [
       "<div>\n",
       "<style scoped>\n",
       "    .dataframe tbody tr th:only-of-type {\n",
       "        vertical-align: middle;\n",
       "    }\n",
       "\n",
       "    .dataframe tbody tr th {\n",
       "        vertical-align: top;\n",
       "    }\n",
       "\n",
       "    .dataframe thead th {\n",
       "        text-align: right;\n",
       "    }\n",
       "</style>\n",
       "<table border=\"1\" class=\"dataframe\">\n",
       "  <thead>\n",
       "    <tr style=\"text-align: right;\">\n",
       "      <th></th>\n",
       "      <th>p1</th>\n",
       "      <th>p1_meanRating</th>\n",
       "      <th>p5_to_p1_rating</th>\n",
       "      <th>p2</th>\n",
       "      <th>p2_meanRating</th>\n",
       "      <th>p1_to_p2_rating</th>\n",
       "      <th>p3</th>\n",
       "      <th>p3_meanRating</th>\n",
       "      <th>p2_to_p3_rating</th>\n",
       "      <th>p4</th>\n",
       "      <th>p4_meanRating</th>\n",
       "      <th>p3_to_p4_rating</th>\n",
       "      <th>p5</th>\n",
       "      <th>p5_meanRating</th>\n",
       "      <th>p4_to_p5_rating</th>\n",
       "    </tr>\n",
       "  </thead>\n",
       "  <tbody>\n",
       "    <tr>\n",
       "      <th>0</th>\n",
       "      <td>3759</td>\n",
       "      <td>-7.500000</td>\n",
       "      <td>10</td>\n",
       "      <td>3757</td>\n",
       "      <td>-6.190476</td>\n",
       "      <td>10</td>\n",
       "      <td>3756</td>\n",
       "      <td>-6.190476</td>\n",
       "      <td>10</td>\n",
       "      <td>3744</td>\n",
       "      <td>-8.333333</td>\n",
       "      <td>10</td>\n",
       "      <td>3760</td>\n",
       "      <td>-8.823529</td>\n",
       "      <td>10</td>\n",
       "    </tr>\n",
       "    <tr>\n",
       "      <th>1</th>\n",
       "      <td>3760</td>\n",
       "      <td>-8.823529</td>\n",
       "      <td>10</td>\n",
       "      <td>3759</td>\n",
       "      <td>-7.500000</td>\n",
       "      <td>10</td>\n",
       "      <td>3757</td>\n",
       "      <td>-6.190476</td>\n",
       "      <td>10</td>\n",
       "      <td>3756</td>\n",
       "      <td>-6.190476</td>\n",
       "      <td>10</td>\n",
       "      <td>3744</td>\n",
       "      <td>-8.333333</td>\n",
       "      <td>10</td>\n",
       "    </tr>\n",
       "    <tr>\n",
       "      <th>2</th>\n",
       "      <td>3744</td>\n",
       "      <td>-8.333333</td>\n",
       "      <td>10</td>\n",
       "      <td>3760</td>\n",
       "      <td>-8.823529</td>\n",
       "      <td>10</td>\n",
       "      <td>3759</td>\n",
       "      <td>-7.500000</td>\n",
       "      <td>10</td>\n",
       "      <td>3757</td>\n",
       "      <td>-6.190476</td>\n",
       "      <td>10</td>\n",
       "      <td>3756</td>\n",
       "      <td>-6.190476</td>\n",
       "      <td>10</td>\n",
       "    </tr>\n",
       "    <tr>\n",
       "      <th>3</th>\n",
       "      <td>3756</td>\n",
       "      <td>-6.190476</td>\n",
       "      <td>10</td>\n",
       "      <td>3744</td>\n",
       "      <td>-8.333333</td>\n",
       "      <td>10</td>\n",
       "      <td>3760</td>\n",
       "      <td>-8.823529</td>\n",
       "      <td>10</td>\n",
       "      <td>3759</td>\n",
       "      <td>-7.500000</td>\n",
       "      <td>10</td>\n",
       "      <td>3757</td>\n",
       "      <td>-6.190476</td>\n",
       "      <td>10</td>\n",
       "    </tr>\n",
       "    <tr>\n",
       "      <th>4</th>\n",
       "      <td>3757</td>\n",
       "      <td>-6.190476</td>\n",
       "      <td>10</td>\n",
       "      <td>3756</td>\n",
       "      <td>-6.190476</td>\n",
       "      <td>10</td>\n",
       "      <td>3744</td>\n",
       "      <td>-8.333333</td>\n",
       "      <td>10</td>\n",
       "      <td>3760</td>\n",
       "      <td>-8.823529</td>\n",
       "      <td>10</td>\n",
       "      <td>3759</td>\n",
       "      <td>-7.500000</td>\n",
       "      <td>10</td>\n",
       "    </tr>\n",
       "  </tbody>\n",
       "</table>\n",
       "</div>"
      ],
      "text/plain": [
       "     p1  p1_meanRating  p5_to_p1_rating    p2  p2_meanRating  p1_to_p2_rating  \\\n",
       "0  3759      -7.500000               10  3757      -6.190476               10   \n",
       "1  3760      -8.823529               10  3759      -7.500000               10   \n",
       "2  3744      -8.333333               10  3760      -8.823529               10   \n",
       "3  3756      -6.190476               10  3744      -8.333333               10   \n",
       "4  3757      -6.190476               10  3756      -6.190476               10   \n",
       "\n",
       "     p3  p3_meanRating  p2_to_p3_rating    p4  p4_meanRating  p3_to_p4_rating  \\\n",
       "0  3756      -6.190476               10  3744      -8.333333               10   \n",
       "1  3757      -6.190476               10  3756      -6.190476               10   \n",
       "2  3759      -7.500000               10  3757      -6.190476               10   \n",
       "3  3760      -8.823529               10  3759      -7.500000               10   \n",
       "4  3744      -8.333333               10  3760      -8.823529               10   \n",
       "\n",
       "     p5  p5_meanRating  p4_to_p5_rating  \n",
       "0  3760      -8.823529               10  \n",
       "1  3744      -8.333333               10  \n",
       "2  3756      -6.190476               10  \n",
       "3  3757      -6.190476               10  \n",
       "4  3759      -7.500000               10  "
      ]
     },
     "execution_count": 60,
     "metadata": {},
     "output_type": "execute_result"
    }
   ],
   "source": [
    "query = \"\"\"\n",
    "MATCH (p1)-[r12:TRUSTS]->(p2)-[r23:TRUSTS]->(p3)-[r34:TRUSTS]->(p4)-[r45:TRUSTS]->(p5)-[r51:TRUSTS]->(p1)\n",
    "WHERE p1.id <> p2.id AND p1.id <> p3.id AND p1.id <> p4.id AND p1.id <> p5.id\n",
    "AND p2.id <> p4.id AND p2.id <> p3.id AND p2.id <> p4.id AND p2.id <> p5.id\n",
    "AND p3.id <> p4.id AND p3.id <> p5.id\n",
    "AND p4.id <> p5.id\n",
    "\n",
    "AND p1.mean_rating < 0 AND p2.mean_rating < 0 AND p3.mean_rating < 0 AND p4.mean_rating < 0 AND p5.mean_rating < 0\n",
    "AND r12.rating > p2.mean_rating + 1.96 * p2.stddev_rating\n",
    "AND r23.rating > p3.mean_rating + 1.96 * p3.stddev_rating\n",
    "AND r34.rating > p4.mean_rating + 1.96 * p4.stddev_rating\n",
    "AND r45.rating > p5.mean_rating + 1.96 * p5.stddev_rating\n",
    "AND r51.rating > p1.mean_rating + 1.96 * p1.stddev_rating\n",
    "RETURN p1.id AS p1, p1.mean_rating AS p1_meanRating, r51.rating AS p5_to_p1_rating, \n",
    "       p2.id AS p2, p2.mean_rating AS p2_meanRating, r12.rating AS p1_to_p2_rating,\n",
    "       p3.id AS p3, p3.mean_rating AS p3_meanRating, r23.rating AS p2_to_p3_rating,\n",
    "       p4.id AS p4, p4.mean_rating AS p4_meanRating, r34.rating AS p3_to_p4_rating,\n",
    "       p5.id AS p5, p5.mean_rating AS p5_meanRating, r45.rating AS p4_to_p5_rating\n",
    "\"\"\"\n",
    "\n",
    "results = session.run(query).data()\n",
    "pd.DataFrame(results)"
   ]
  },
  {
   "cell_type": "code",
   "execution_count": 62,
   "metadata": {},
   "outputs": [],
   "source": [
    "query = \"\"\"\n",
    "MATCH (p1)-[r12:TRUSTS]->(p2)-[r21:TRUSTS]->(p1)\n",
    "WHERE p2.mean_rating > 0 AND p1.mean_rating > 0\n",
    "AND r12.rating < p2.mean_rating - 1.96 * p2.stddev_rating\n",
    "AND r21.rating < p1.mean_rating - 1.96 * p1.stddev_rating\n",
    "RETURN p1.id AS p1, p1.mean_rating AS p1_meanRating, r21.rating AS p2_to_p1_rating, \n",
    "       p2.id AS p2, p2.mean_rating AS p2_meanRating, r12.rating AS p1_to_p2_rating\n",
    "\"\"\"\n",
    "\n",
    "results = session.run(query).data()"
   ]
  },
  {
   "cell_type": "code",
   "execution_count": 63,
   "metadata": {},
   "outputs": [
    {
     "data": {
      "text/html": [
       "<div>\n",
       "<style scoped>\n",
       "    .dataframe tbody tr th:only-of-type {\n",
       "        vertical-align: middle;\n",
       "    }\n",
       "\n",
       "    .dataframe tbody tr th {\n",
       "        vertical-align: top;\n",
       "    }\n",
       "\n",
       "    .dataframe thead th {\n",
       "        text-align: right;\n",
       "    }\n",
       "</style>\n",
       "<table border=\"1\" class=\"dataframe\">\n",
       "  <thead>\n",
       "    <tr style=\"text-align: right;\">\n",
       "      <th></th>\n",
       "      <th>p1</th>\n",
       "      <th>p1_meanRating</th>\n",
       "      <th>p2_to_p1_rating</th>\n",
       "      <th>p2</th>\n",
       "      <th>p2_meanRating</th>\n",
       "      <th>p1_to_p2_rating</th>\n",
       "    </tr>\n",
       "  </thead>\n",
       "  <tbody>\n",
       "    <tr>\n",
       "      <th>0</th>\n",
       "      <td>13</td>\n",
       "      <td>1.785340</td>\n",
       "      <td>-10</td>\n",
       "      <td>1352</td>\n",
       "      <td>1.618644</td>\n",
       "      <td>-10</td>\n",
       "    </tr>\n",
       "    <tr>\n",
       "      <th>1</th>\n",
       "      <td>135</td>\n",
       "      <td>0.301075</td>\n",
       "      <td>-10</td>\n",
       "      <td>3545</td>\n",
       "      <td>1.875000</td>\n",
       "      <td>-8</td>\n",
       "    </tr>\n",
       "    <tr>\n",
       "      <th>2</th>\n",
       "      <td>309</td>\n",
       "      <td>0.882353</td>\n",
       "      <td>-10</td>\n",
       "      <td>1675</td>\n",
       "      <td>1.351852</td>\n",
       "      <td>-5</td>\n",
       "    </tr>\n",
       "    <tr>\n",
       "      <th>3</th>\n",
       "      <td>710</td>\n",
       "      <td>0.869565</td>\n",
       "      <td>-10</td>\n",
       "      <td>2158</td>\n",
       "      <td>0.666667</td>\n",
       "      <td>-10</td>\n",
       "    </tr>\n",
       "    <tr>\n",
       "      <th>4</th>\n",
       "      <td>1352</td>\n",
       "      <td>1.618644</td>\n",
       "      <td>-10</td>\n",
       "      <td>2344</td>\n",
       "      <td>0.913043</td>\n",
       "      <td>-10</td>\n",
       "    </tr>\n",
       "    <tr>\n",
       "      <th>5</th>\n",
       "      <td>1352</td>\n",
       "      <td>1.618644</td>\n",
       "      <td>-10</td>\n",
       "      <td>13</td>\n",
       "      <td>1.785340</td>\n",
       "      <td>-10</td>\n",
       "    </tr>\n",
       "    <tr>\n",
       "      <th>6</th>\n",
       "      <td>1352</td>\n",
       "      <td>1.618644</td>\n",
       "      <td>-10</td>\n",
       "      <td>1566</td>\n",
       "      <td>2.591837</td>\n",
       "      <td>-10</td>\n",
       "    </tr>\n",
       "    <tr>\n",
       "      <th>7</th>\n",
       "      <td>1566</td>\n",
       "      <td>2.591837</td>\n",
       "      <td>-10</td>\n",
       "      <td>1352</td>\n",
       "      <td>1.618644</td>\n",
       "      <td>-10</td>\n",
       "    </tr>\n",
       "    <tr>\n",
       "      <th>8</th>\n",
       "      <td>1675</td>\n",
       "      <td>1.351852</td>\n",
       "      <td>-5</td>\n",
       "      <td>309</td>\n",
       "      <td>0.882353</td>\n",
       "      <td>-10</td>\n",
       "    </tr>\n",
       "    <tr>\n",
       "      <th>9</th>\n",
       "      <td>1765</td>\n",
       "      <td>1.466667</td>\n",
       "      <td>-3</td>\n",
       "      <td>2067</td>\n",
       "      <td>1.683761</td>\n",
       "      <td>-10</td>\n",
       "    </tr>\n",
       "    <tr>\n",
       "      <th>10</th>\n",
       "      <td>2045</td>\n",
       "      <td>0.070312</td>\n",
       "      <td>-10</td>\n",
       "      <td>3040</td>\n",
       "      <td>1.382353</td>\n",
       "      <td>-2</td>\n",
       "    </tr>\n",
       "    <tr>\n",
       "      <th>11</th>\n",
       "      <td>2067</td>\n",
       "      <td>1.683761</td>\n",
       "      <td>-10</td>\n",
       "      <td>1765</td>\n",
       "      <td>1.466667</td>\n",
       "      <td>-3</td>\n",
       "    </tr>\n",
       "    <tr>\n",
       "      <th>12</th>\n",
       "      <td>2158</td>\n",
       "      <td>0.666667</td>\n",
       "      <td>-10</td>\n",
       "      <td>710</td>\n",
       "      <td>0.869565</td>\n",
       "      <td>-10</td>\n",
       "    </tr>\n",
       "    <tr>\n",
       "      <th>13</th>\n",
       "      <td>2194</td>\n",
       "      <td>0.552632</td>\n",
       "      <td>-5</td>\n",
       "      <td>5482</td>\n",
       "      <td>1.000000</td>\n",
       "      <td>-5</td>\n",
       "    </tr>\n",
       "    <tr>\n",
       "      <th>14</th>\n",
       "      <td>2344</td>\n",
       "      <td>0.913043</td>\n",
       "      <td>-10</td>\n",
       "      <td>1352</td>\n",
       "      <td>1.618644</td>\n",
       "      <td>-10</td>\n",
       "    </tr>\n",
       "    <tr>\n",
       "      <th>15</th>\n",
       "      <td>2388</td>\n",
       "      <td>0.727941</td>\n",
       "      <td>-10</td>\n",
       "      <td>3451</td>\n",
       "      <td>1.380000</td>\n",
       "      <td>-10</td>\n",
       "    </tr>\n",
       "    <tr>\n",
       "      <th>16</th>\n",
       "      <td>2388</td>\n",
       "      <td>0.727941</td>\n",
       "      <td>-10</td>\n",
       "      <td>2942</td>\n",
       "      <td>1.959350</td>\n",
       "      <td>-10</td>\n",
       "    </tr>\n",
       "    <tr>\n",
       "      <th>17</th>\n",
       "      <td>2388</td>\n",
       "      <td>0.727941</td>\n",
       "      <td>-10</td>\n",
       "      <td>4382</td>\n",
       "      <td>0.461538</td>\n",
       "      <td>-10</td>\n",
       "    </tr>\n",
       "    <tr>\n",
       "      <th>18</th>\n",
       "      <td>2755</td>\n",
       "      <td>0.904762</td>\n",
       "      <td>-10</td>\n",
       "      <td>5251</td>\n",
       "      <td>1.250000</td>\n",
       "      <td>-1</td>\n",
       "    </tr>\n",
       "    <tr>\n",
       "      <th>19</th>\n",
       "      <td>2942</td>\n",
       "      <td>1.959350</td>\n",
       "      <td>-10</td>\n",
       "      <td>2388</td>\n",
       "      <td>0.727941</td>\n",
       "      <td>-10</td>\n",
       "    </tr>\n",
       "    <tr>\n",
       "      <th>20</th>\n",
       "      <td>3040</td>\n",
       "      <td>1.382353</td>\n",
       "      <td>-2</td>\n",
       "      <td>2045</td>\n",
       "      <td>0.070312</td>\n",
       "      <td>-10</td>\n",
       "    </tr>\n",
       "    <tr>\n",
       "      <th>21</th>\n",
       "      <td>3345</td>\n",
       "      <td>0.125000</td>\n",
       "      <td>-10</td>\n",
       "      <td>3707</td>\n",
       "      <td>1.421053</td>\n",
       "      <td>-10</td>\n",
       "    </tr>\n",
       "    <tr>\n",
       "      <th>22</th>\n",
       "      <td>3451</td>\n",
       "      <td>1.380000</td>\n",
       "      <td>-10</td>\n",
       "      <td>2388</td>\n",
       "      <td>0.727941</td>\n",
       "      <td>-10</td>\n",
       "    </tr>\n",
       "    <tr>\n",
       "      <th>23</th>\n",
       "      <td>3545</td>\n",
       "      <td>1.875000</td>\n",
       "      <td>-8</td>\n",
       "      <td>135</td>\n",
       "      <td>0.301075</td>\n",
       "      <td>-10</td>\n",
       "    </tr>\n",
       "    <tr>\n",
       "      <th>24</th>\n",
       "      <td>3707</td>\n",
       "      <td>1.421053</td>\n",
       "      <td>-10</td>\n",
       "      <td>3345</td>\n",
       "      <td>0.125000</td>\n",
       "      <td>-10</td>\n",
       "    </tr>\n",
       "    <tr>\n",
       "      <th>25</th>\n",
       "      <td>4382</td>\n",
       "      <td>0.461538</td>\n",
       "      <td>-10</td>\n",
       "      <td>2388</td>\n",
       "      <td>0.727941</td>\n",
       "      <td>-10</td>\n",
       "    </tr>\n",
       "    <tr>\n",
       "      <th>26</th>\n",
       "      <td>5251</td>\n",
       "      <td>1.250000</td>\n",
       "      <td>-1</td>\n",
       "      <td>2755</td>\n",
       "      <td>0.904762</td>\n",
       "      <td>-10</td>\n",
       "    </tr>\n",
       "    <tr>\n",
       "      <th>27</th>\n",
       "      <td>5482</td>\n",
       "      <td>1.000000</td>\n",
       "      <td>-5</td>\n",
       "      <td>2194</td>\n",
       "      <td>0.552632</td>\n",
       "      <td>-5</td>\n",
       "    </tr>\n",
       "  </tbody>\n",
       "</table>\n",
       "</div>"
      ],
      "text/plain": [
       "      p1  p1_meanRating  p2_to_p1_rating    p2  p2_meanRating  p1_to_p2_rating\n",
       "0     13       1.785340              -10  1352       1.618644              -10\n",
       "1    135       0.301075              -10  3545       1.875000               -8\n",
       "2    309       0.882353              -10  1675       1.351852               -5\n",
       "3    710       0.869565              -10  2158       0.666667              -10\n",
       "4   1352       1.618644              -10  2344       0.913043              -10\n",
       "5   1352       1.618644              -10    13       1.785340              -10\n",
       "6   1352       1.618644              -10  1566       2.591837              -10\n",
       "7   1566       2.591837              -10  1352       1.618644              -10\n",
       "8   1675       1.351852               -5   309       0.882353              -10\n",
       "9   1765       1.466667               -3  2067       1.683761              -10\n",
       "10  2045       0.070312              -10  3040       1.382353               -2\n",
       "11  2067       1.683761              -10  1765       1.466667               -3\n",
       "12  2158       0.666667              -10   710       0.869565              -10\n",
       "13  2194       0.552632               -5  5482       1.000000               -5\n",
       "14  2344       0.913043              -10  1352       1.618644              -10\n",
       "15  2388       0.727941              -10  3451       1.380000              -10\n",
       "16  2388       0.727941              -10  2942       1.959350              -10\n",
       "17  2388       0.727941              -10  4382       0.461538              -10\n",
       "18  2755       0.904762              -10  5251       1.250000               -1\n",
       "19  2942       1.959350              -10  2388       0.727941              -10\n",
       "20  3040       1.382353               -2  2045       0.070312              -10\n",
       "21  3345       0.125000              -10  3707       1.421053              -10\n",
       "22  3451       1.380000              -10  2388       0.727941              -10\n",
       "23  3545       1.875000               -8   135       0.301075              -10\n",
       "24  3707       1.421053              -10  3345       0.125000              -10\n",
       "25  4382       0.461538              -10  2388       0.727941              -10\n",
       "26  5251       1.250000               -1  2755       0.904762              -10\n",
       "27  5482       1.000000               -5  2194       0.552632               -5"
      ]
     },
     "execution_count": 63,
     "metadata": {},
     "output_type": "execute_result"
    }
   ],
   "source": [
    "pd.DataFrame(results)"
   ]
  },
  {
   "cell_type": "markdown",
   "metadata": {},
   "source": [
    "# Rating Prediction"
   ]
  },
  {
   "cell_type": "code",
   "execution_count": 134,
   "metadata": {},
   "outputs": [],
   "source": [
    "# Use July 2013 as cut-off"
   ]
  },
  {
   "cell_type": "code",
   "execution_count": 65,
   "metadata": {},
   "outputs": [
    {
     "data": {
      "text/plain": [
       "{'relationships_created': 24322, 'properties_set': 24322}"
      ]
     },
     "metadata": {},
     "output_type": "display_data"
    },
    {
     "data": {
      "text/plain": [
       "{'relationships_created': 11270, 'properties_set': 11270}"
      ]
     },
     "metadata": {},
     "output_type": "display_data"
    }
   ],
   "source": [
    "query = \"\"\"\n",
    "MATCH (a)-[r:TRUSTS]->(b)\n",
    "WHERE r.time < 1372636800\n",
    "MERGE (a)-[:EARLY_TRUST {rating: r.rating}]->(b)\n",
    "\"\"\"\n",
    "\n",
    "display(session.run(query).consume().counters)\n",
    "\n",
    "query = \"\"\"\n",
    "MATCH (a)-[r:TRUSTS]->(b)\n",
    "WHERE r.time >= 1372636800\n",
    "MERGE (a)-[:LATE_TRUST {rating: r.rating}]->(b)\n",
    "\"\"\"\n",
    "\n",
    "display(session.run(query).consume().counters)"
   ]
  },
  {
   "cell_type": "code",
   "execution_count": 66,
   "metadata": {},
   "outputs": [],
   "source": [
    "query = \"\"\"\n",
    "MATCH (a)-[r:EARLY_TRUST]->(b)\n",
    "RETURN a.id, b.id, r.rating AS rating\n",
    "\"\"\"\n",
    "\n",
    "train_df = pd.DataFrame([dict(record) for record in session.run(query)])"
   ]
  },
  {
   "cell_type": "code",
   "execution_count": 67,
   "metadata": {},
   "outputs": [
    {
     "data": {
      "text/html": [
       "<div>\n",
       "<style scoped>\n",
       "    .dataframe tbody tr th:only-of-type {\n",
       "        vertical-align: middle;\n",
       "    }\n",
       "\n",
       "    .dataframe tbody tr th {\n",
       "        vertical-align: top;\n",
       "    }\n",
       "\n",
       "    .dataframe thead th {\n",
       "        text-align: right;\n",
       "    }\n",
       "</style>\n",
       "<table border=\"1\" class=\"dataframe\">\n",
       "  <thead>\n",
       "    <tr style=\"text-align: right;\">\n",
       "      <th></th>\n",
       "      <th>a.id</th>\n",
       "      <th>b.id</th>\n",
       "      <th>rating</th>\n",
       "    </tr>\n",
       "  </thead>\n",
       "  <tbody>\n",
       "    <tr>\n",
       "      <th>0</th>\n",
       "      <td>1</td>\n",
       "      <td>1815</td>\n",
       "      <td>2</td>\n",
       "    </tr>\n",
       "    <tr>\n",
       "      <th>1</th>\n",
       "      <td>1</td>\n",
       "      <td>353</td>\n",
       "      <td>5</td>\n",
       "    </tr>\n",
       "    <tr>\n",
       "      <th>2</th>\n",
       "      <td>1</td>\n",
       "      <td>33</td>\n",
       "      <td>7</td>\n",
       "    </tr>\n",
       "    <tr>\n",
       "      <th>3</th>\n",
       "      <td>1</td>\n",
       "      <td>6</td>\n",
       "      <td>8</td>\n",
       "    </tr>\n",
       "    <tr>\n",
       "      <th>4</th>\n",
       "      <td>1</td>\n",
       "      <td>141</td>\n",
       "      <td>1</td>\n",
       "    </tr>\n",
       "    <tr>\n",
       "      <th>...</th>\n",
       "      <td>...</td>\n",
       "      <td>...</td>\n",
       "      <td>...</td>\n",
       "    </tr>\n",
       "    <tr>\n",
       "      <th>24317</th>\n",
       "      <td>4495</td>\n",
       "      <td>4496</td>\n",
       "      <td>1</td>\n",
       "    </tr>\n",
       "    <tr>\n",
       "      <th>24318</th>\n",
       "      <td>4496</td>\n",
       "      <td>4495</td>\n",
       "      <td>1</td>\n",
       "    </tr>\n",
       "    <tr>\n",
       "      <th>24319</th>\n",
       "      <td>4497</td>\n",
       "      <td>4402</td>\n",
       "      <td>2</td>\n",
       "    </tr>\n",
       "    <tr>\n",
       "      <th>24320</th>\n",
       "      <td>4499</td>\n",
       "      <td>4400</td>\n",
       "      <td>10</td>\n",
       "    </tr>\n",
       "    <tr>\n",
       "      <th>24321</th>\n",
       "      <td>4499</td>\n",
       "      <td>3719</td>\n",
       "      <td>1</td>\n",
       "    </tr>\n",
       "  </tbody>\n",
       "</table>\n",
       "<p>24322 rows × 3 columns</p>\n",
       "</div>"
      ],
      "text/plain": [
       "       a.id  b.id  rating\n",
       "0         1  1815       2\n",
       "1         1   353       5\n",
       "2         1    33       7\n",
       "3         1     6       8\n",
       "4         1   141       1\n",
       "...     ...   ...     ...\n",
       "24317  4495  4496       1\n",
       "24318  4496  4495       1\n",
       "24319  4497  4402       2\n",
       "24320  4499  4400      10\n",
       "24321  4499  3719       1\n",
       "\n",
       "[24322 rows x 3 columns]"
      ]
     },
     "execution_count": 67,
     "metadata": {},
     "output_type": "execute_result"
    }
   ],
   "source": [
    "train_df"
   ]
  },
  {
   "cell_type": "code",
   "execution_count": 68,
   "metadata": {},
   "outputs": [
    {
     "data": {
      "text/html": [
       "<div>\n",
       "<style scoped>\n",
       "    .dataframe tbody tr th:only-of-type {\n",
       "        vertical-align: middle;\n",
       "    }\n",
       "\n",
       "    .dataframe tbody tr th {\n",
       "        vertical-align: top;\n",
       "    }\n",
       "\n",
       "    .dataframe thead th {\n",
       "        text-align: right;\n",
       "    }\n",
       "</style>\n",
       "<table border=\"1\" class=\"dataframe\">\n",
       "  <thead>\n",
       "    <tr style=\"text-align: right;\">\n",
       "      <th></th>\n",
       "      <th>a.id</th>\n",
       "      <th>b.id</th>\n",
       "      <th>rating</th>\n",
       "    </tr>\n",
       "  </thead>\n",
       "  <tbody>\n",
       "    <tr>\n",
       "      <th>0</th>\n",
       "      <td>1</td>\n",
       "      <td>4857</td>\n",
       "      <td>2</td>\n",
       "    </tr>\n",
       "    <tr>\n",
       "      <th>1</th>\n",
       "      <td>1</td>\n",
       "      <td>905</td>\n",
       "      <td>-5</td>\n",
       "    </tr>\n",
       "    <tr>\n",
       "      <th>2</th>\n",
       "      <td>1</td>\n",
       "      <td>3527</td>\n",
       "      <td>2</td>\n",
       "    </tr>\n",
       "    <tr>\n",
       "      <th>3</th>\n",
       "      <td>1</td>\n",
       "      <td>2067</td>\n",
       "      <td>1</td>\n",
       "    </tr>\n",
       "    <tr>\n",
       "      <th>4</th>\n",
       "      <td>1</td>\n",
       "      <td>202</td>\n",
       "      <td>1</td>\n",
       "    </tr>\n",
       "    <tr>\n",
       "      <th>...</th>\n",
       "      <td>...</td>\n",
       "      <td>...</td>\n",
       "      <td>...</td>\n",
       "    </tr>\n",
       "    <tr>\n",
       "      <th>11265</th>\n",
       "      <td>5994</td>\n",
       "      <td>5458</td>\n",
       "      <td>1</td>\n",
       "    </tr>\n",
       "    <tr>\n",
       "      <th>11266</th>\n",
       "      <td>5995</td>\n",
       "      <td>35</td>\n",
       "      <td>1</td>\n",
       "    </tr>\n",
       "    <tr>\n",
       "      <th>11267</th>\n",
       "      <td>5996</td>\n",
       "      <td>5949</td>\n",
       "      <td>3</td>\n",
       "    </tr>\n",
       "    <tr>\n",
       "      <th>11268</th>\n",
       "      <td>5999</td>\n",
       "      <td>3878</td>\n",
       "      <td>8</td>\n",
       "    </tr>\n",
       "    <tr>\n",
       "      <th>11269</th>\n",
       "      <td>6000</td>\n",
       "      <td>6002</td>\n",
       "      <td>1</td>\n",
       "    </tr>\n",
       "  </tbody>\n",
       "</table>\n",
       "<p>11270 rows × 3 columns</p>\n",
       "</div>"
      ],
      "text/plain": [
       "       a.id  b.id  rating\n",
       "0         1  4857       2\n",
       "1         1   905      -5\n",
       "2         1  3527       2\n",
       "3         1  2067       1\n",
       "4         1   202       1\n",
       "...     ...   ...     ...\n",
       "11265  5994  5458       1\n",
       "11266  5995    35       1\n",
       "11267  5996  5949       3\n",
       "11268  5999  3878       8\n",
       "11269  6000  6002       1\n",
       "\n",
       "[11270 rows x 3 columns]"
      ]
     },
     "execution_count": 68,
     "metadata": {},
     "output_type": "execute_result"
    }
   ],
   "source": [
    "query = \"\"\"\n",
    "MATCH (a)-[r:LATE_TRUST]->(b)\n",
    "RETURN a.id, b.id, r.rating AS rating\n",
    "\"\"\"\n",
    "\n",
    "test_df = pd.DataFrame([dict(record) for record in session.run(query)])\n",
    "test_df"
   ]
  },
  {
   "cell_type": "code",
   "execution_count": 69,
   "metadata": {},
   "outputs": [],
   "source": [
    "def linkprediction_features(data):\n",
    "    query = \"\"\"\n",
    "    UNWIND $AB as ab\n",
    "    MATCH (a) WHERE a.id = ab.nodeA\n",
    "    MATCH (b) WHERE b.id = ab.nodeB\n",
    "    RETURN a.id AS nodeA, b.id AS nodeB,\n",
    "        gds.alpha.linkprediction.commonNeighbors(a,b, {relationshipQuery: \"EARLY_TRUST\", direction: \"BOTH\"}) AS CN,\n",
    "        gds.alpha.linkprediction.adamicAdar(a,b, {relationshipQuery: \"EARLY_TRUST\", direction: \"BOTH\"}) as AA,\n",
    "        gds.alpha.linkprediction.resourceAllocation(a,b, {relationshipQuery: \"EARLY_TRUST\", direction: \"BOTH\"}) as RA\n",
    "    \"\"\"\n",
    "    \n",
    "    AB = [{\"nodeA\": elem[0], \"nodeB\": elem[1]} for elem in data.values]\n",
    "    params = {\"AB\": AB}\n",
    "    \n",
    "    features = session.run(query, params).values()\n",
    "    return features"
   ]
  },
  {
   "cell_type": "code",
   "execution_count": 70,
   "metadata": {},
   "outputs": [],
   "source": [
    "features5k = pd.DataFrame(linkprediction_features(train_df[:5000]))\n",
    "features10k = pd.DataFrame(linkprediction_features(train_df[5000:10000]))\n",
    "features15k = pd.DataFrame(linkprediction_features(train_df[10000:15000]))\n",
    "features20k = pd.DataFrame(linkprediction_features(train_df[15000:20000]))\n",
    "features25k = pd.DataFrame(linkprediction_features(train_df[20000:]))"
   ]
  },
  {
   "cell_type": "code",
   "execution_count": 71,
   "metadata": {},
   "outputs": [],
   "source": [
    "train_features = pd.concat([features5k, features10k, features15k, features20k, features25k])"
   ]
  },
  {
   "cell_type": "code",
   "execution_count": 72,
   "metadata": {},
   "outputs": [],
   "source": [
    "train_features.columns = ['a.id', 'b.id', 'CN', 'AA', 'RA']"
   ]
  },
  {
   "cell_type": "code",
   "execution_count": 73,
   "metadata": {},
   "outputs": [
    {
     "data": {
      "text/html": [
       "<div>\n",
       "<style scoped>\n",
       "    .dataframe tbody tr th:only-of-type {\n",
       "        vertical-align: middle;\n",
       "    }\n",
       "\n",
       "    .dataframe tbody tr th {\n",
       "        vertical-align: top;\n",
       "    }\n",
       "\n",
       "    .dataframe thead th {\n",
       "        text-align: right;\n",
       "    }\n",
       "</style>\n",
       "<table border=\"1\" class=\"dataframe\">\n",
       "  <thead>\n",
       "    <tr style=\"text-align: right;\">\n",
       "      <th></th>\n",
       "      <th>a.id</th>\n",
       "      <th>b.id</th>\n",
       "      <th>CN</th>\n",
       "      <th>AA</th>\n",
       "      <th>RA</th>\n",
       "    </tr>\n",
       "  </thead>\n",
       "  <tbody>\n",
       "    <tr>\n",
       "      <th>0</th>\n",
       "      <td>1</td>\n",
       "      <td>1815</td>\n",
       "      <td>7.0</td>\n",
       "      <td>1.474352</td>\n",
       "      <td>0.074539</td>\n",
       "    </tr>\n",
       "    <tr>\n",
       "      <th>1</th>\n",
       "      <td>1</td>\n",
       "      <td>353</td>\n",
       "      <td>26.0</td>\n",
       "      <td>6.064763</td>\n",
       "      <td>0.470397</td>\n",
       "    </tr>\n",
       "    <tr>\n",
       "      <th>2</th>\n",
       "      <td>1</td>\n",
       "      <td>33</td>\n",
       "      <td>2.0</td>\n",
       "      <td>0.386101</td>\n",
       "      <td>0.013272</td>\n",
       "    </tr>\n",
       "    <tr>\n",
       "      <th>3</th>\n",
       "      <td>1</td>\n",
       "      <td>6</td>\n",
       "      <td>24.0</td>\n",
       "      <td>6.397270</td>\n",
       "      <td>0.770571</td>\n",
       "    </tr>\n",
       "    <tr>\n",
       "      <th>4</th>\n",
       "      <td>1</td>\n",
       "      <td>141</td>\n",
       "      <td>5.0</td>\n",
       "      <td>1.151791</td>\n",
       "      <td>0.082213</td>\n",
       "    </tr>\n",
       "    <tr>\n",
       "      <th>...</th>\n",
       "      <td>...</td>\n",
       "      <td>...</td>\n",
       "      <td>...</td>\n",
       "      <td>...</td>\n",
       "      <td>...</td>\n",
       "    </tr>\n",
       "    <tr>\n",
       "      <th>4317</th>\n",
       "      <td>4495</td>\n",
       "      <td>4496</td>\n",
       "      <td>0.0</td>\n",
       "      <td>0.000000</td>\n",
       "      <td>0.000000</td>\n",
       "    </tr>\n",
       "    <tr>\n",
       "      <th>4318</th>\n",
       "      <td>4496</td>\n",
       "      <td>4495</td>\n",
       "      <td>0.0</td>\n",
       "      <td>0.000000</td>\n",
       "      <td>0.000000</td>\n",
       "    </tr>\n",
       "    <tr>\n",
       "      <th>4319</th>\n",
       "      <td>4497</td>\n",
       "      <td>4402</td>\n",
       "      <td>0.0</td>\n",
       "      <td>0.000000</td>\n",
       "      <td>0.000000</td>\n",
       "    </tr>\n",
       "    <tr>\n",
       "      <th>4320</th>\n",
       "      <td>4499</td>\n",
       "      <td>4400</td>\n",
       "      <td>0.0</td>\n",
       "      <td>0.000000</td>\n",
       "      <td>0.000000</td>\n",
       "    </tr>\n",
       "    <tr>\n",
       "      <th>4321</th>\n",
       "      <td>4499</td>\n",
       "      <td>3719</td>\n",
       "      <td>0.0</td>\n",
       "      <td>0.000000</td>\n",
       "      <td>0.000000</td>\n",
       "    </tr>\n",
       "  </tbody>\n",
       "</table>\n",
       "<p>24322 rows × 5 columns</p>\n",
       "</div>"
      ],
      "text/plain": [
       "      a.id  b.id    CN        AA        RA\n",
       "0        1  1815   7.0  1.474352  0.074539\n",
       "1        1   353  26.0  6.064763  0.470397\n",
       "2        1    33   2.0  0.386101  0.013272\n",
       "3        1     6  24.0  6.397270  0.770571\n",
       "4        1   141   5.0  1.151791  0.082213\n",
       "...    ...   ...   ...       ...       ...\n",
       "4317  4495  4496   0.0  0.000000  0.000000\n",
       "4318  4496  4495   0.0  0.000000  0.000000\n",
       "4319  4497  4402   0.0  0.000000  0.000000\n",
       "4320  4499  4400   0.0  0.000000  0.000000\n",
       "4321  4499  3719   0.0  0.000000  0.000000\n",
       "\n",
       "[24322 rows x 5 columns]"
      ]
     },
     "execution_count": 73,
     "metadata": {},
     "output_type": "execute_result"
    }
   ],
   "source": [
    "train_features"
   ]
  },
  {
   "cell_type": "code",
   "execution_count": 74,
   "metadata": {},
   "outputs": [],
   "source": [
    "trainset = train_df.merge(on=['a.id', 'b.id'], right =train_features)"
   ]
  },
  {
   "cell_type": "code",
   "execution_count": 75,
   "metadata": {},
   "outputs": [],
   "source": [
    "test_features6k = pd.DataFrame(linkprediction_features(test_df[:6000]))\n",
    "test_features12k = pd.DataFrame(linkprediction_features(test_df[6000:]))"
   ]
  },
  {
   "cell_type": "code",
   "execution_count": 76,
   "metadata": {},
   "outputs": [],
   "source": [
    "test_features = pd.concat([test_features6k, test_features12k])\n",
    "test_features.columns = ['a.id', 'b.id', 'CN', 'AA', 'RA']"
   ]
  },
  {
   "cell_type": "code",
   "execution_count": 77,
   "metadata": {},
   "outputs": [],
   "source": [
    "testset = test_df.merge(on=['a.id', 'b.id'], right = test_features)"
   ]
  },
  {
   "cell_type": "code",
   "execution_count": 78,
   "metadata": {},
   "outputs": [],
   "source": [
    "cumsum_early_ratings = node_network[node_network['TIME'] < 1372636800].groupby('TARGET').sum()['RATING']"
   ]
  },
  {
   "cell_type": "code",
   "execution_count": 79,
   "metadata": {},
   "outputs": [],
   "source": [
    "def early_rating(elem):\n",
    "    elem = float(elem)\n",
    "    try:\n",
    "        val = cumsum_early_ratings.loc[elem]\n",
    "    except:\n",
    "        val = 0\n",
    "    \n",
    "    return val"
   ]
  },
  {
   "cell_type": "code",
   "execution_count": 80,
   "metadata": {},
   "outputs": [],
   "source": [
    "trainset['A_EarlyRating'] = trainset['a.id'].apply(early_rating)\n",
    "trainset['B_EarlyRating'] = trainset['b.id'].apply(early_rating)\n",
    "\n",
    "testset['A_EarlyRating'] = testset['a.id'].apply(early_rating)\n",
    "testset['B_EarlyRating'] = testset['b.id'].apply(early_rating)\n"
   ]
  },
  {
   "cell_type": "code",
   "execution_count": 81,
   "metadata": {},
   "outputs": [
    {
     "data": {
      "text/html": [
       "<div>\n",
       "<style scoped>\n",
       "    .dataframe tbody tr th:only-of-type {\n",
       "        vertical-align: middle;\n",
       "    }\n",
       "\n",
       "    .dataframe tbody tr th {\n",
       "        vertical-align: top;\n",
       "    }\n",
       "\n",
       "    .dataframe thead th {\n",
       "        text-align: right;\n",
       "    }\n",
       "</style>\n",
       "<table border=\"1\" class=\"dataframe\">\n",
       "  <thead>\n",
       "    <tr style=\"text-align: right;\">\n",
       "      <th></th>\n",
       "      <th>a.id</th>\n",
       "      <th>b.id</th>\n",
       "      <th>rating</th>\n",
       "      <th>CN</th>\n",
       "      <th>AA</th>\n",
       "      <th>RA</th>\n",
       "      <th>A_EarlyRating</th>\n",
       "      <th>B_EarlyRating</th>\n",
       "    </tr>\n",
       "  </thead>\n",
       "  <tbody>\n",
       "    <tr>\n",
       "      <th>0</th>\n",
       "      <td>1</td>\n",
       "      <td>1815</td>\n",
       "      <td>2</td>\n",
       "      <td>7.0</td>\n",
       "      <td>1.474352</td>\n",
       "      <td>0.074539</td>\n",
       "      <td>660</td>\n",
       "      <td>24</td>\n",
       "    </tr>\n",
       "    <tr>\n",
       "      <th>1</th>\n",
       "      <td>1</td>\n",
       "      <td>353</td>\n",
       "      <td>5</td>\n",
       "      <td>26.0</td>\n",
       "      <td>6.064763</td>\n",
       "      <td>0.470397</td>\n",
       "      <td>660</td>\n",
       "      <td>104</td>\n",
       "    </tr>\n",
       "    <tr>\n",
       "      <th>2</th>\n",
       "      <td>1</td>\n",
       "      <td>33</td>\n",
       "      <td>7</td>\n",
       "      <td>2.0</td>\n",
       "      <td>0.386101</td>\n",
       "      <td>0.013272</td>\n",
       "      <td>660</td>\n",
       "      <td>15</td>\n",
       "    </tr>\n",
       "    <tr>\n",
       "      <th>3</th>\n",
       "      <td>1</td>\n",
       "      <td>6</td>\n",
       "      <td>8</td>\n",
       "      <td>24.0</td>\n",
       "      <td>6.397270</td>\n",
       "      <td>0.770571</td>\n",
       "      <td>660</td>\n",
       "      <td>91</td>\n",
       "    </tr>\n",
       "    <tr>\n",
       "      <th>4</th>\n",
       "      <td>1</td>\n",
       "      <td>141</td>\n",
       "      <td>1</td>\n",
       "      <td>5.0</td>\n",
       "      <td>1.151791</td>\n",
       "      <td>0.082213</td>\n",
       "      <td>660</td>\n",
       "      <td>30</td>\n",
       "    </tr>\n",
       "    <tr>\n",
       "      <th>...</th>\n",
       "      <td>...</td>\n",
       "      <td>...</td>\n",
       "      <td>...</td>\n",
       "      <td>...</td>\n",
       "      <td>...</td>\n",
       "      <td>...</td>\n",
       "      <td>...</td>\n",
       "      <td>...</td>\n",
       "    </tr>\n",
       "    <tr>\n",
       "      <th>24317</th>\n",
       "      <td>4495</td>\n",
       "      <td>4496</td>\n",
       "      <td>1</td>\n",
       "      <td>0.0</td>\n",
       "      <td>0.000000</td>\n",
       "      <td>0.000000</td>\n",
       "      <td>1</td>\n",
       "      <td>1</td>\n",
       "    </tr>\n",
       "    <tr>\n",
       "      <th>24318</th>\n",
       "      <td>4496</td>\n",
       "      <td>4495</td>\n",
       "      <td>1</td>\n",
       "      <td>0.0</td>\n",
       "      <td>0.000000</td>\n",
       "      <td>0.000000</td>\n",
       "      <td>1</td>\n",
       "      <td>1</td>\n",
       "    </tr>\n",
       "    <tr>\n",
       "      <th>24319</th>\n",
       "      <td>4497</td>\n",
       "      <td>4402</td>\n",
       "      <td>2</td>\n",
       "      <td>0.0</td>\n",
       "      <td>0.000000</td>\n",
       "      <td>0.000000</td>\n",
       "      <td>2</td>\n",
       "      <td>28</td>\n",
       "    </tr>\n",
       "    <tr>\n",
       "      <th>24320</th>\n",
       "      <td>4499</td>\n",
       "      <td>4400</td>\n",
       "      <td>10</td>\n",
       "      <td>0.0</td>\n",
       "      <td>0.000000</td>\n",
       "      <td>0.000000</td>\n",
       "      <td>1</td>\n",
       "      <td>17</td>\n",
       "    </tr>\n",
       "    <tr>\n",
       "      <th>24321</th>\n",
       "      <td>4499</td>\n",
       "      <td>3719</td>\n",
       "      <td>1</td>\n",
       "      <td>0.0</td>\n",
       "      <td>0.000000</td>\n",
       "      <td>0.000000</td>\n",
       "      <td>1</td>\n",
       "      <td>35</td>\n",
       "    </tr>\n",
       "  </tbody>\n",
       "</table>\n",
       "<p>24322 rows × 8 columns</p>\n",
       "</div>"
      ],
      "text/plain": [
       "       a.id  b.id  rating    CN        AA        RA  A_EarlyRating  \\\n",
       "0         1  1815       2   7.0  1.474352  0.074539            660   \n",
       "1         1   353       5  26.0  6.064763  0.470397            660   \n",
       "2         1    33       7   2.0  0.386101  0.013272            660   \n",
       "3         1     6       8  24.0  6.397270  0.770571            660   \n",
       "4         1   141       1   5.0  1.151791  0.082213            660   \n",
       "...     ...   ...     ...   ...       ...       ...            ...   \n",
       "24317  4495  4496       1   0.0  0.000000  0.000000              1   \n",
       "24318  4496  4495       1   0.0  0.000000  0.000000              1   \n",
       "24319  4497  4402       2   0.0  0.000000  0.000000              2   \n",
       "24320  4499  4400      10   0.0  0.000000  0.000000              1   \n",
       "24321  4499  3719       1   0.0  0.000000  0.000000              1   \n",
       "\n",
       "       B_EarlyRating  \n",
       "0                 24  \n",
       "1                104  \n",
       "2                 15  \n",
       "3                 91  \n",
       "4                 30  \n",
       "...              ...  \n",
       "24317              1  \n",
       "24318              1  \n",
       "24319             28  \n",
       "24320             17  \n",
       "24321             35  \n",
       "\n",
       "[24322 rows x 8 columns]"
      ]
     },
     "execution_count": 81,
     "metadata": {},
     "output_type": "execute_result"
    }
   ],
   "source": [
    "trainset"
   ]
  },
  {
   "cell_type": "code",
   "execution_count": 111,
   "metadata": {},
   "outputs": [],
   "source": [
    "X_train = np.array(trainset.drop(['a.id', 'b.id', 'rating'], axis=1))\n",
    "y_train = np.array(trainset['rating'])\n",
    "\n",
    "X_test = np.array(testset.drop(['a.id', 'b.id', 'rating'], axis=1))\n",
    "y_test = np.array(testset['rating'])"
   ]
  },
  {
   "cell_type": "code",
   "execution_count": 135,
   "metadata": {},
   "outputs": [],
   "source": [
    "from sklearn.linear_model import LinearRegression"
   ]
  },
  {
   "cell_type": "code",
   "execution_count": 113,
   "metadata": {},
   "outputs": [],
   "source": [
    "reg = LinearRegression().fit(X_train, y_train)"
   ]
  },
  {
   "cell_type": "code",
   "execution_count": 114,
   "metadata": {},
   "outputs": [
    {
     "data": {
      "text/plain": [
       "0.04620431876644959"
      ]
     },
     "execution_count": 114,
     "metadata": {},
     "output_type": "execute_result"
    }
   ],
   "source": [
    "reg.score(X_train, y_train)"
   ]
  },
  {
   "cell_type": "code",
   "execution_count": 115,
   "metadata": {},
   "outputs": [
    {
     "data": {
      "text/plain": [
       "array([-1.60594594e-01,  1.21506967e+00, -4.56389252e+00, -1.80021016e-05,\n",
       "        3.26418336e-03])"
      ]
     },
     "execution_count": 115,
     "metadata": {},
     "output_type": "execute_result"
    }
   ],
   "source": [
    "reg.coef_"
   ]
  },
  {
   "cell_type": "code",
   "execution_count": 116,
   "metadata": {},
   "outputs": [
    {
     "data": {
      "text/plain": [
       "1.0223543164198527"
      ]
     },
     "execution_count": 116,
     "metadata": {},
     "output_type": "execute_result"
    }
   ],
   "source": [
    "reg.intercept_"
   ]
  },
  {
   "cell_type": "code",
   "execution_count": 118,
   "metadata": {},
   "outputs": [],
   "source": [
    "predictions = reg.predict(np.array(X_test))"
   ]
  },
  {
   "cell_type": "code",
   "execution_count": 119,
   "metadata": {},
   "outputs": [
    {
     "data": {
      "text/plain": [
       "array([1.01047293, 4.05905096, 1.11819098, ..., 1.02235432, 1.08763798,\n",
       "       1.02235432])"
      ]
     },
     "execution_count": 119,
     "metadata": {},
     "output_type": "execute_result"
    }
   ],
   "source": [
    "predictions"
   ]
  },
  {
   "cell_type": "code",
   "execution_count": 120,
   "metadata": {},
   "outputs": [],
   "source": [
    "from sklearn.metrics import mean_squared_error"
   ]
  },
  {
   "cell_type": "code",
   "execution_count": 122,
   "metadata": {},
   "outputs": [
    {
     "data": {
      "text/plain": [
       "<matplotlib.collections.PathCollection at 0x1fe03880c48>"
      ]
     },
     "execution_count": 122,
     "metadata": {},
     "output_type": "execute_result"
    },
    {
     "data": {
      "image/png": "[encoded data removed]",
      "text/plain": [
       "<Figure size 432x288 with 1 Axes>"
      ]
     },
     "metadata": {
      "needs_background": "light"
     },
     "output_type": "display_data"
    }
   ],
   "source": [
    "plt.scatter(predictions, y_test)"
   ]
  },
  {
   "cell_type": "code",
   "execution_count": 123,
   "metadata": {},
   "outputs": [
    {
     "data": {
      "text/plain": [
       "20.032745970802637"
      ]
     },
     "execution_count": 123,
     "metadata": {},
     "output_type": "execute_result"
    }
   ],
   "source": [
    "mean_squared_error(predictions, y_test)"
   ]
  },
  {
   "cell_type": "code",
   "execution_count": 132,
   "metadata": {},
   "outputs": [
    {
     "data": {
      "text/plain": [
       "20.664396430089425"
      ]
     },
     "execution_count": 132,
     "metadata": {},
     "output_type": "execute_result"
    }
   ],
   "source": [
    "# Very poor indeed. How about just taking the mean rating as baseline?  \n",
    "from itertools import repeat\n",
    "\n",
    "baseline_prediction = np.array(list(repeat(trainset['rating'].mean(), len(y_test))))\n",
    "mean_squared_error(baseline_prediction, y_test)"
   ]
  },
  {
   "cell_type": "code",
   "execution_count": 133,
   "metadata": {},
   "outputs": [],
   "source": [
    "# Barely any difference"
   ]
  },
  {
   "cell_type": "markdown",
   "metadata": {},
   "source": [
    "In conclusion, we have seen how neo4j/cypher can be used for pattern matching and finding anomalies, however, due to the highly skewed nature of the ratings, the rating prediction did not work out as hoped for, as it is hardly any better than a baseline estimate of the mean rating. "
   ]
  }
 ],
 "metadata": {
  "kernelspec": {
   "display_name": "Python 3",
   "language": "python",
   "name": "python3"
  },
  "language_info": {
   "codemirror_mode": {
    "name": "ipython",
    "version": 3
   },
   "file_extension": ".py",
   "mimetype": "text/x-python",
   "name": "python",
   "nbconvert_exporter": "python",
   "pygments_lexer": "ipython3",
   "version": "3.7.5"
  }
 },
 "nbformat": 4,
 "nbformat_minor": 2
}
